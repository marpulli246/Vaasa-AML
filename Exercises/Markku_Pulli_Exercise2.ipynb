{
  "nbformat": 4,
  "nbformat_minor": 0,
  "metadata": {
    "kernelspec": {
      "display_name": "Python 3 (ipykernel)",
      "language": "python",
      "name": "python3"
    },
    "language_info": {
      "codemirror_mode": {
        "name": "ipython",
        "version": 3
      },
      "file_extension": ".py",
      "mimetype": "text/x-python",
      "name": "python",
      "nbconvert_exporter": "python",
      "pygments_lexer": "ipython3",
      "version": "3.9.2"
    },
    "toc": {
      "base_numbering": 1,
      "nav_menu": {},
      "number_sections": true,
      "sideBar": true,
      "skip_h1_title": false,
      "title_cell": "Table of Contents",
      "title_sidebar": "Contents",
      "toc_cell": false,
      "toc_position": {},
      "toc_section_display": true,
      "toc_window_display": false
    },
    "colab": {
      "name": "Markku_Pulli_Exercise2.ipynb",
      "provenance": [],
      "include_colab_link": true
    },
    "widgets": {
      "application/vnd.jupyter.widget-state+json": {
        "03f2ebaf48254956aa677ca26611d257": {
          "model_module": "@jupyter-widgets/controls",
          "model_name": "RadioButtonsModel",
          "model_module_version": "1.5.0",
          "state": {
            "_options_labels": [
              "No selection",
              "There are no missing values",
              "Province/State",
              "Country/Region",
              "Lat",
              "Lon",
              "1/22/20",
              "1/23/20"
            ],
            "_view_name": "RadioButtonsView",
            "style": "IPY_MODEL_9225fad07d9b433c8aeaadf585730369",
            "_dom_classes": [],
            "description": "Select feature:",
            "_model_name": "RadioButtonsModel",
            "index": 2,
            "_view_module": "@jupyter-widgets/controls",
            "_model_module_version": "1.5.0",
            "_view_count": null,
            "disabled": false,
            "_view_module_version": "1.5.0",
            "description_tooltip": null,
            "_model_module": "@jupyter-widgets/controls",
            "layout": "IPY_MODEL_ff62178838804e29ac3f7b07def229ca"
          }
        },
        "9225fad07d9b433c8aeaadf585730369": {
          "model_module": "@jupyter-widgets/controls",
          "model_name": "DescriptionStyleModel",
          "model_module_version": "1.5.0",
          "state": {
            "_view_name": "StyleView",
            "_model_name": "DescriptionStyleModel",
            "description_width": "",
            "_view_module": "@jupyter-widgets/base",
            "_model_module_version": "1.5.0",
            "_view_count": null,
            "_view_module_version": "1.2.0",
            "_model_module": "@jupyter-widgets/controls"
          }
        },
        "ff62178838804e29ac3f7b07def229ca": {
          "model_module": "@jupyter-widgets/base",
          "model_name": "LayoutModel",
          "model_module_version": "1.2.0",
          "state": {
            "_view_name": "LayoutView",
            "grid_template_rows": null,
            "right": null,
            "justify_content": null,
            "_view_module": "@jupyter-widgets/base",
            "overflow": null,
            "_model_module_version": "1.2.0",
            "_view_count": null,
            "flex_flow": null,
            "width": null,
            "min_width": null,
            "border": null,
            "align_items": null,
            "bottom": null,
            "_model_module": "@jupyter-widgets/base",
            "top": null,
            "grid_column": null,
            "overflow_y": null,
            "overflow_x": null,
            "grid_auto_flow": null,
            "grid_area": null,
            "grid_template_columns": null,
            "flex": null,
            "_model_name": "LayoutModel",
            "justify_items": null,
            "grid_row": null,
            "max_height": null,
            "align_content": null,
            "visibility": null,
            "align_self": null,
            "height": null,
            "min_height": null,
            "padding": null,
            "grid_auto_rows": null,
            "grid_gap": null,
            "max_width": null,
            "order": null,
            "_view_module_version": "1.2.0",
            "grid_template_areas": null,
            "object_position": null,
            "object_fit": null,
            "grid_auto_columns": null,
            "margin": null,
            "display": null,
            "left": null
          }
        },
        "c9b4f47ee62b4124a98c46e6f3011e4b": {
          "model_module": "@jupyter-widgets/controls",
          "model_name": "RadioButtonsModel",
          "model_module_version": "1.5.0",
          "state": {
            "_options_labels": [
              "No selection",
              "Drop columns",
              "Drop rows",
              "Imputation",
              "None"
            ],
            "_view_name": "RadioButtonsView",
            "style": "IPY_MODEL_8e26738ee6eb41c8967cbd96af60f13c",
            "_dom_classes": [],
            "description": "Strategy:",
            "_model_name": "RadioButtonsModel",
            "index": 4,
            "_view_module": "@jupyter-widgets/controls",
            "_model_module_version": "1.5.0",
            "_view_count": null,
            "disabled": false,
            "_view_module_version": "1.5.0",
            "description_tooltip": null,
            "_model_module": "@jupyter-widgets/controls",
            "layout": "IPY_MODEL_f6f424e014ee4c1ca567a6fd1682ecce"
          }
        },
        "8e26738ee6eb41c8967cbd96af60f13c": {
          "model_module": "@jupyter-widgets/controls",
          "model_name": "DescriptionStyleModel",
          "model_module_version": "1.5.0",
          "state": {
            "_view_name": "StyleView",
            "_model_name": "DescriptionStyleModel",
            "description_width": "",
            "_view_module": "@jupyter-widgets/base",
            "_model_module_version": "1.5.0",
            "_view_count": null,
            "_view_module_version": "1.2.0",
            "_model_module": "@jupyter-widgets/controls"
          }
        },
        "f6f424e014ee4c1ca567a6fd1682ecce": {
          "model_module": "@jupyter-widgets/base",
          "model_name": "LayoutModel",
          "model_module_version": "1.2.0",
          "state": {
            "_view_name": "LayoutView",
            "grid_template_rows": null,
            "right": null,
            "justify_content": null,
            "_view_module": "@jupyter-widgets/base",
            "overflow": null,
            "_model_module_version": "1.2.0",
            "_view_count": null,
            "flex_flow": null,
            "width": null,
            "min_width": null,
            "border": null,
            "align_items": null,
            "bottom": null,
            "_model_module": "@jupyter-widgets/base",
            "top": null,
            "grid_column": null,
            "overflow_y": null,
            "overflow_x": null,
            "grid_auto_flow": null,
            "grid_area": null,
            "grid_template_columns": null,
            "flex": null,
            "_model_name": "LayoutModel",
            "justify_items": null,
            "grid_row": null,
            "max_height": null,
            "align_content": null,
            "visibility": null,
            "align_self": null,
            "height": null,
            "min_height": null,
            "padding": null,
            "grid_auto_rows": null,
            "grid_gap": null,
            "max_width": null,
            "order": null,
            "_view_module_version": "1.2.0",
            "grid_template_areas": null,
            "object_position": null,
            "object_fit": null,
            "grid_auto_columns": null,
            "margin": null,
            "display": null,
            "left": null
          }
        }
      }
    }
  },
  "cells": [
    {
      "cell_type": "markdown",
      "metadata": {
        "id": "view-in-github",
        "colab_type": "text"
      },
      "source": [
        "<a href=\"https://colab.research.google.com/github/marpulli246/VaasaUniversity-AML/blob/main/Exercises/Markku_Pulli_Exercise2.ipynb\" target=\"_parent\"><img src=\"https://colab.research.google.com/assets/colab-badge.svg\" alt=\"Open In Colab\"/></a>"
      ]
    },
    {
      "cell_type": "markdown",
      "metadata": {
        "id": "iXd6sE0vjjGm"
      },
      "source": [
        "# Applied Machine Learning (2021), exercises\n",
        "\n",
        "\n",
        "## General instructions for all exercises\n",
        "\n",
        "Before you turn this problem in, make sure everything runs as expected. First, **restart the kernel** (in the menubar, select Kernel$\\rightarrow$Restart) and then **run all cells** (in the menubar, select Cell$\\rightarrow$Run All).\n",
        "\n",
        "Follow the instructions and fill in your solution under the line marked by tag\n",
        "\n",
        "> YOUR CODE HERE\n",
        "\n",
        "Do not change other areas of the document, since it may disturb the autograding of your results!\n",
        "  \n",
        "Having written the answer, execute the code cell by and pressing `Shift-Enter` key combination. The code is run, and it may print some information under the code cell. The focus automatically moves to the next cell and you may \"execute\" that cell by pressing `Shift-Enter` again, until you have reached the code cell which tests your solution. Execute that and follow the feedback. Usually it either says that the solution seems acceptable, or reports some errors. You can go back to your solution, modify it and repeat everything until you are satisfied. Then proceed to the next task.\n",
        "   \n",
        "Repeat the process for all tasks.\n",
        "\n",
        "The notebook may also contain manually graded answers. Write your manualle graded answer under the line marked by tag:\n",
        "\n",
        "> YOUR ANSWER HERE\n",
        "\n",
        "Manually graded tasks may be text, pseudocode, or mathematical formulas. You can write formulas with $\\LaTeX$-syntax by enclosing the formula with dollar signs (`$`), for example `$f(x)=2 \\pi / \\alpha$`, will produce $f(x)=2 \\pi / \\alpha$\n",
        "\n",
        "When you have passed the tests in the notebook, and you are ready to submit your solutions, download the whole notebook, using menu `File -> Download as -> Notebook (.ipynb)`. Save the file in your hard disk, and submit it in [Moodle](https://moodle.uwasa.fi) under the corresponding excercise.\n",
        "\n",
        "Your solution should be an executable Python code. Use the code already existing as an example of Python programing and read more from the numerous Python programming material from the Internet if necessary. \n"
      ]
    },
    {
      "cell_type": "code",
      "metadata": {
        "id": "_uPeveVujjHG"
      },
      "source": [
        "NAME = \"Markku Pulli\"\n",
        "Student_number = \"121763\""
      ],
      "execution_count": null,
      "outputs": []
    },
    {
      "cell_type": "markdown",
      "metadata": {
        "id": "NQ0fwPYqjjHL"
      },
      "source": [
        "---"
      ]
    },
    {
      "cell_type": "markdown",
      "metadata": {
        "deletable": false,
        "editable": false,
        "nbgrader": {
          "cell_type": "markdown",
          "checksum": "ac0abf8467c557f3b5a0227eb266ce3a",
          "grade": false,
          "grade_id": "cell-0bd9bf369d15fc72",
          "locked": true,
          "schema_version": 3,
          "solution": false,
          "task": false
        },
        "id": "OVnT-Gp2jjHS"
      },
      "source": [
        "## Reading, and visualizing data with pandas\n",
        "\n",
        "This exercise contains the following tasks:\n",
        "\n",
        "1. Read the CSV data to Pandas dataframe\n",
        "1. Study the data statistics \n",
        "1. Slice and plot Finnish Covid cases\n",
        "1. Parse timestamps from strings\n",
        "1. Differentiate the data to get daily cases\n",
        "1. Store the data in four different formats"
      ]
    },
    {
      "cell_type": "code",
      "metadata": {
        "ExecuteTime": {
          "end_time": "2021-10-13T09:02:21.482466Z",
          "start_time": "2021-10-13T09:02:19.616315Z"
        },
        "deletable": false,
        "editable": false,
        "nbgrader": {
          "cell_type": "code",
          "checksum": "05b40b60b8c242d5cdd8adaa202726b9",
          "grade": false,
          "grade_id": "cell-4fd5279efd07c830",
          "locked": true,
          "schema_version": 3,
          "solution": false,
          "task": false
        },
        "id": "XdLGSf5fjjHU"
      },
      "source": [
        "#%load_ext autoreload\n",
        "#%autoreload 2\n",
        "import pandas as pd\n",
        "import matplotlib.pyplot as plt\n",
        "import numpy as np\n",
        "import ipywidgets as widgets\n",
        "import Ex2code\n",
        "\n",
        "import seaborn as sns\n",
        "# This makes the plots to have white background and grids by default\n",
        "#plt.style.use('seaborn-whitegrid')\n",
        "sns.set()\n"
      ],
      "execution_count": 3,
      "outputs": []
    },
    {
      "cell_type": "markdown",
      "metadata": {
        "deletable": false,
        "editable": false,
        "nbgrader": {
          "cell_type": "markdown",
          "checksum": "58b85e11489f5ebeafa128bdcb10c58f",
          "grade": false,
          "grade_id": "cell-13bde4d9e4eb3309",
          "locked": true,
          "schema_version": 3,
          "solution": false,
          "task": false
        },
        "id": "CPmoj618jjHX"
      },
      "source": [
        "### Task 1: Read and examine data\n",
        "#### a) Read the CSV data to Pandas dataframe\n",
        "\n",
        "Read the data file `time_series_covid_19_confirmed.csv` to a pandas dataframe called `D`, and display the head and tail of the dataframe.\n",
        "\n",
        "The data is taken from [Kaggle](https://www.kaggle.com/sudalairajkumar/novel-corona-virus-2019-dataset?rvi=1)."
      ]
    },
    {
      "cell_type": "code",
      "metadata": {
        "ExecuteTime": {
          "end_time": "2021-10-12T18:22:38.149311Z",
          "start_time": "2021-10-12T18:22:37.983416Z"
        },
        "deletable": false,
        "nbgrader": {
          "cell_type": "code",
          "checksum": "7a65685ae10a6af139e7f3853fdfbbbd",
          "grade": false,
          "grade_id": "cell-f847b9b64c459963",
          "locked": false,
          "schema_version": 3,
          "solution": true,
          "task": false
        },
        "colab": {
          "base_uri": "https://localhost:8080/"
        },
        "id": "7RqlRC2pjjHa",
        "outputId": "bc0ba3ce-d14e-4051-96fc-728868e7486a"
      },
      "source": [
        "# YOUR CODE HERE\n",
        "D = pd.read_csv('/content/time_series_covid_19_confirmed.csv')\n",
        "D.shape"
      ],
      "execution_count": 5,
      "outputs": [
        {
          "output_type": "execute_result",
          "data": {
            "text/plain": [
              "(276, 498)"
            ]
          },
          "metadata": {},
          "execution_count": 5
        }
      ]
    },
    {
      "cell_type": "code",
      "metadata": {
        "ExecuteTime": {
          "end_time": "2021-10-12T18:40:46.472712Z",
          "start_time": "2021-10-12T18:40:46.428948Z"
        },
        "deletable": false,
        "editable": false,
        "nbgrader": {
          "cell_type": "code",
          "checksum": "2346c52c427e29332240638a7a78db98",
          "grade": true,
          "grade_id": "cell-4921356b2337c8ff",
          "locked": true,
          "points": 1,
          "schema_version": 3,
          "solution": false,
          "task": false
        },
        "id": "yM3chAfFjjHc"
      },
      "source": [
        "# Some testing\n",
        "assert(D.shape == (276,498)), \"The shape of the data does not seem to be correct\""
      ],
      "execution_count": 6,
      "outputs": []
    },
    {
      "cell_type": "markdown",
      "metadata": {
        "deletable": false,
        "editable": false,
        "nbgrader": {
          "cell_type": "markdown",
          "checksum": "e05cb09c30e9a53a0f28c3b969a9cba6",
          "grade": false,
          "grade_id": "cell-0e40a44f622ce9c6",
          "locked": true,
          "schema_version": 3,
          "solution": false,
          "task": false
        },
        "id": "A2m-hOscjjHj"
      },
      "source": [
        "#### Task 1 b)  Study the statistics of the data\n",
        "\n",
        "Study the statistics of the corona data, using `.head()` and `.describe()` functions. \n",
        "Do you find missing values in the data? If you do, which column contains most of the missing values"
      ]
    },
    {
      "cell_type": "code",
      "metadata": {
        "colab": {
          "base_uri": "https://localhost:8080/"
        },
        "id": "VCjEzMOio5v9",
        "outputId": "bd77faa5-c0a4-43b0-bc70-b8832bc08605"
      },
      "source": [
        "print(D.head())\n",
        "missing = D.columns[D.isnull().any()]\n",
        "print(missing)"
      ],
      "execution_count": 7,
      "outputs": [
        {
          "output_type": "stream",
          "name": "stdout",
          "text": [
            "  Province/State Country/Region       Lat  ...  5/27/21  5/28/21  5/29/21\n",
            "0            NaN    Afghanistan  33.93911  ...    68366    69130    70111\n",
            "1            NaN        Albania  41.15330  ...   132264   132285   132297\n",
            "2            NaN        Algeria  28.03390  ...   127926   128198   128456\n",
            "3            NaN        Andorra  42.50630  ...    13682    13693    13693\n",
            "4            NaN         Angola -11.20270  ...    33607    33944    34180\n",
            "\n",
            "[5 rows x 498 columns]\n",
            "Index(['Province/State', 'Lat', 'Long'], dtype='object')\n"
          ]
        }
      ]
    },
    {
      "cell_type": "code",
      "metadata": {
        "colab": {
          "base_uri": "https://localhost:8080/"
        },
        "id": "5v_suZldC7CY",
        "outputId": "cc6febb8-cce5-4de9-94e9-cd0b45c75aeb"
      },
      "source": [
        "print(D['Province/State'].isna().sum())\n",
        "print(D['Lat'].isna().sum())\n",
        "print(D['Long'].isna().sum())"
      ],
      "execution_count": 8,
      "outputs": [
        {
          "output_type": "stream",
          "name": "stdout",
          "text": [
            "190\n",
            "2\n",
            "2\n"
          ]
        }
      ]
    },
    {
      "cell_type": "code",
      "metadata": {
        "colab": {
          "base_uri": "https://localhost:8080/",
          "height": 350
        },
        "id": "iA3vAMZmQ_p_",
        "outputId": "aa4af178-573c-474e-946e-6cbb22acc92a"
      },
      "source": [
        "D.describe()"
      ],
      "execution_count": 9,
      "outputs": [
        {
          "output_type": "execute_result",
          "data": {
            "text/html": [
              "<div>\n",
              "<style scoped>\n",
              "    .dataframe tbody tr th:only-of-type {\n",
              "        vertical-align: middle;\n",
              "    }\n",
              "\n",
              "    .dataframe tbody tr th {\n",
              "        vertical-align: top;\n",
              "    }\n",
              "\n",
              "    .dataframe thead th {\n",
              "        text-align: right;\n",
              "    }\n",
              "</style>\n",
              "<table border=\"1\" class=\"dataframe\">\n",
              "  <thead>\n",
              "    <tr style=\"text-align: right;\">\n",
              "      <th></th>\n",
              "      <th>Lat</th>\n",
              "      <th>Long</th>\n",
              "      <th>1/22/20</th>\n",
              "      <th>1/23/20</th>\n",
              "      <th>1/24/20</th>\n",
              "      <th>1/25/20</th>\n",
              "      <th>1/26/20</th>\n",
              "      <th>1/27/20</th>\n",
              "      <th>1/28/20</th>\n",
              "      <th>1/29/20</th>\n",
              "      <th>1/30/20</th>\n",
              "      <th>1/31/20</th>\n",
              "      <th>2/1/20</th>\n",
              "      <th>2/2/20</th>\n",
              "      <th>2/3/20</th>\n",
              "      <th>2/4/20</th>\n",
              "      <th>2/5/20</th>\n",
              "      <th>2/6/20</th>\n",
              "      <th>2/7/20</th>\n",
              "      <th>2/8/20</th>\n",
              "      <th>2/9/20</th>\n",
              "      <th>2/10/20</th>\n",
              "      <th>2/11/20</th>\n",
              "      <th>2/12/20</th>\n",
              "      <th>2/13/20</th>\n",
              "      <th>2/14/20</th>\n",
              "      <th>2/15/20</th>\n",
              "      <th>2/16/20</th>\n",
              "      <th>2/17/20</th>\n",
              "      <th>2/18/20</th>\n",
              "      <th>2/19/20</th>\n",
              "      <th>2/20/20</th>\n",
              "      <th>2/21/20</th>\n",
              "      <th>2/22/20</th>\n",
              "      <th>2/23/20</th>\n",
              "      <th>2/24/20</th>\n",
              "      <th>2/25/20</th>\n",
              "      <th>2/26/20</th>\n",
              "      <th>2/27/20</th>\n",
              "      <th>2/28/20</th>\n",
              "      <th>...</th>\n",
              "      <th>4/20/21</th>\n",
              "      <th>4/21/21</th>\n",
              "      <th>4/22/21</th>\n",
              "      <th>4/23/21</th>\n",
              "      <th>4/24/21</th>\n",
              "      <th>4/25/21</th>\n",
              "      <th>4/26/21</th>\n",
              "      <th>4/27/21</th>\n",
              "      <th>4/28/21</th>\n",
              "      <th>4/29/21</th>\n",
              "      <th>4/30/21</th>\n",
              "      <th>5/1/21</th>\n",
              "      <th>5/2/21</th>\n",
              "      <th>5/3/21</th>\n",
              "      <th>5/4/21</th>\n",
              "      <th>5/5/21</th>\n",
              "      <th>5/6/21</th>\n",
              "      <th>5/7/21</th>\n",
              "      <th>5/8/21</th>\n",
              "      <th>5/9/21</th>\n",
              "      <th>5/10/21</th>\n",
              "      <th>5/11/21</th>\n",
              "      <th>5/12/21</th>\n",
              "      <th>5/13/21</th>\n",
              "      <th>5/14/21</th>\n",
              "      <th>5/15/21</th>\n",
              "      <th>5/16/21</th>\n",
              "      <th>5/17/21</th>\n",
              "      <th>5/18/21</th>\n",
              "      <th>5/19/21</th>\n",
              "      <th>5/20/21</th>\n",
              "      <th>5/21/21</th>\n",
              "      <th>5/22/21</th>\n",
              "      <th>5/23/21</th>\n",
              "      <th>5/24/21</th>\n",
              "      <th>5/25/21</th>\n",
              "      <th>5/26/21</th>\n",
              "      <th>5/27/21</th>\n",
              "      <th>5/28/21</th>\n",
              "      <th>5/29/21</th>\n",
              "    </tr>\n",
              "  </thead>\n",
              "  <tbody>\n",
              "    <tr>\n",
              "      <th>count</th>\n",
              "      <td>274.000000</td>\n",
              "      <td>274.000000</td>\n",
              "      <td>276.000000</td>\n",
              "      <td>276.000000</td>\n",
              "      <td>276.000000</td>\n",
              "      <td>276.000000</td>\n",
              "      <td>276.000000</td>\n",
              "      <td>276.000000</td>\n",
              "      <td>276.000000</td>\n",
              "      <td>276.000000</td>\n",
              "      <td>276.000000</td>\n",
              "      <td>276.000000</td>\n",
              "      <td>276.000000</td>\n",
              "      <td>276.000000</td>\n",
              "      <td>276.000000</td>\n",
              "      <td>276.000000</td>\n",
              "      <td>276.000000</td>\n",
              "      <td>276.000000</td>\n",
              "      <td>276.000000</td>\n",
              "      <td>276.000000</td>\n",
              "      <td>276.000000</td>\n",
              "      <td>276.000000</td>\n",
              "      <td>276.000000</td>\n",
              "      <td>276.000000</td>\n",
              "      <td>276.000000</td>\n",
              "      <td>276.000000</td>\n",
              "      <td>276.000000</td>\n",
              "      <td>276.000000</td>\n",
              "      <td>276.000000</td>\n",
              "      <td>276.000000</td>\n",
              "      <td>276.000000</td>\n",
              "      <td>276.000000</td>\n",
              "      <td>276.000000</td>\n",
              "      <td>276.000000</td>\n",
              "      <td>276.000000</td>\n",
              "      <td>276.000000</td>\n",
              "      <td>276.000000</td>\n",
              "      <td>276.000000</td>\n",
              "      <td>276.000000</td>\n",
              "      <td>276.000000</td>\n",
              "      <td>...</td>\n",
              "      <td>2.760000e+02</td>\n",
              "      <td>2.760000e+02</td>\n",
              "      <td>2.760000e+02</td>\n",
              "      <td>2.760000e+02</td>\n",
              "      <td>2.760000e+02</td>\n",
              "      <td>2.760000e+02</td>\n",
              "      <td>2.760000e+02</td>\n",
              "      <td>2.760000e+02</td>\n",
              "      <td>2.760000e+02</td>\n",
              "      <td>2.760000e+02</td>\n",
              "      <td>2.760000e+02</td>\n",
              "      <td>2.760000e+02</td>\n",
              "      <td>2.760000e+02</td>\n",
              "      <td>2.760000e+02</td>\n",
              "      <td>2.760000e+02</td>\n",
              "      <td>2.760000e+02</td>\n",
              "      <td>2.760000e+02</td>\n",
              "      <td>2.760000e+02</td>\n",
              "      <td>2.760000e+02</td>\n",
              "      <td>2.760000e+02</td>\n",
              "      <td>2.760000e+02</td>\n",
              "      <td>2.760000e+02</td>\n",
              "      <td>2.760000e+02</td>\n",
              "      <td>2.760000e+02</td>\n",
              "      <td>2.760000e+02</td>\n",
              "      <td>2.760000e+02</td>\n",
              "      <td>2.760000e+02</td>\n",
              "      <td>2.760000e+02</td>\n",
              "      <td>2.760000e+02</td>\n",
              "      <td>2.760000e+02</td>\n",
              "      <td>2.760000e+02</td>\n",
              "      <td>2.760000e+02</td>\n",
              "      <td>2.760000e+02</td>\n",
              "      <td>2.760000e+02</td>\n",
              "      <td>2.760000e+02</td>\n",
              "      <td>2.760000e+02</td>\n",
              "      <td>2.760000e+02</td>\n",
              "      <td>2.760000e+02</td>\n",
              "      <td>2.760000e+02</td>\n",
              "      <td>2.760000e+02</td>\n",
              "    </tr>\n",
              "    <tr>\n",
              "      <th>mean</th>\n",
              "      <td>20.447559</td>\n",
              "      <td>22.328281</td>\n",
              "      <td>2.018116</td>\n",
              "      <td>2.373188</td>\n",
              "      <td>3.409420</td>\n",
              "      <td>5.192029</td>\n",
              "      <td>7.673913</td>\n",
              "      <td>10.605072</td>\n",
              "      <td>20.210145</td>\n",
              "      <td>22.344203</td>\n",
              "      <td>29.836957</td>\n",
              "      <td>35.967391</td>\n",
              "      <td>43.615942</td>\n",
              "      <td>60.822464</td>\n",
              "      <td>72.054348</td>\n",
              "      <td>86.586957</td>\n",
              "      <td>100.155797</td>\n",
              "      <td>111.605072</td>\n",
              "      <td>124.623188</td>\n",
              "      <td>134.528986</td>\n",
              "      <td>145.507246</td>\n",
              "      <td>154.960145</td>\n",
              "      <td>162.358696</td>\n",
              "      <td>163.873188</td>\n",
              "      <td>218.775362</td>\n",
              "      <td>242.423913</td>\n",
              "      <td>250.188406</td>\n",
              "      <td>258.097826</td>\n",
              "      <td>265.471014</td>\n",
              "      <td>272.289855</td>\n",
              "      <td>274.101449</td>\n",
              "      <td>276.130435</td>\n",
              "      <td>278.409420</td>\n",
              "      <td>284.789855</td>\n",
              "      <td>286.166667</td>\n",
              "      <td>288.210145</td>\n",
              "      <td>291.300725</td>\n",
              "      <td>294.840580</td>\n",
              "      <td>299.768116</td>\n",
              "      <td>304.789855</td>\n",
              "      <td>...</td>\n",
              "      <td>5.179451e+05</td>\n",
              "      <td>5.211696e+05</td>\n",
              "      <td>5.244296e+05</td>\n",
              "      <td>5.277041e+05</td>\n",
              "      <td>5.306785e+05</td>\n",
              "      <td>5.332957e+05</td>\n",
              "      <td>5.357696e+05</td>\n",
              "      <td>5.388292e+05</td>\n",
              "      <td>5.421118e+05</td>\n",
              "      <td>5.453640e+05</td>\n",
              "      <td>5.485488e+05</td>\n",
              "      <td>5.514354e+05</td>\n",
              "      <td>5.538786e+05</td>\n",
              "      <td>5.563482e+05</td>\n",
              "      <td>5.592737e+05</td>\n",
              "      <td>5.623216e+05</td>\n",
              "      <td>5.654737e+05</td>\n",
              "      <td>5.684865e+05</td>\n",
              "      <td>5.713364e+05</td>\n",
              "      <td>5.736608e+05</td>\n",
              "      <td>5.759141e+05</td>\n",
              "      <td>5.785898e+05</td>\n",
              "      <td>5.813437e+05</td>\n",
              "      <td>5.839716e+05</td>\n",
              "      <td>5.865732e+05</td>\n",
              "      <td>5.888468e+05</td>\n",
              "      <td>5.908331e+05</td>\n",
              "      <td>5.927885e+05</td>\n",
              "      <td>5.950428e+05</td>\n",
              "      <td>5.974743e+05</td>\n",
              "      <td>5.984867e+05</td>\n",
              "      <td>6.007543e+05</td>\n",
              "      <td>6.028478e+05</td>\n",
              "      <td>6.045727e+05</td>\n",
              "      <td>6.062187e+05</td>\n",
              "      <td>6.081457e+05</td>\n",
              "      <td>6.102044e+05</td>\n",
              "      <td>6.122130e+05</td>\n",
              "      <td>6.140244e+05</td>\n",
              "      <td>6.157665e+05</td>\n",
              "    </tr>\n",
              "    <tr>\n",
              "      <th>std</th>\n",
              "      <td>25.189838</td>\n",
              "      <td>74.369096</td>\n",
              "      <td>26.781738</td>\n",
              "      <td>26.879567</td>\n",
              "      <td>33.464159</td>\n",
              "      <td>46.575328</td>\n",
              "      <td>65.089830</td>\n",
              "      <td>87.699030</td>\n",
              "      <td>215.201418</td>\n",
              "      <td>216.521511</td>\n",
              "      <td>298.377294</td>\n",
              "      <td>353.754834</td>\n",
              "      <td>435.313401</td>\n",
              "      <td>676.494833</td>\n",
              "      <td>817.788348</td>\n",
              "      <td>1007.884613</td>\n",
              "      <td>1187.714772</td>\n",
              "      <td>1335.148694</td>\n",
              "      <td>1506.165586</td>\n",
              "      <td>1635.472132</td>\n",
              "      <td>1787.715018</td>\n",
              "      <td>1913.867390</td>\n",
              "      <td>2012.441881</td>\n",
              "      <td>2012.780205</td>\n",
              "      <td>2904.064734</td>\n",
              "      <td>3276.799205</td>\n",
              "      <td>3387.689187</td>\n",
              "      <td>3503.968094</td>\n",
              "      <td>3612.651852</td>\n",
              "      <td>3714.479264</td>\n",
              "      <td>3735.499036</td>\n",
              "      <td>3760.204488</td>\n",
              "      <td>3773.510303</td>\n",
              "      <td>3859.001700</td>\n",
              "      <td>3859.042744</td>\n",
              "      <td>3871.327211</td>\n",
              "      <td>3901.385100</td>\n",
              "      <td>3925.695938</td>\n",
              "      <td>3950.861847</td>\n",
              "      <td>3970.967454</td>\n",
              "      <td>...</td>\n",
              "      <td>2.388134e+06</td>\n",
              "      <td>2.401311e+06</td>\n",
              "      <td>2.414529e+06</td>\n",
              "      <td>2.428350e+06</td>\n",
              "      <td>2.441772e+06</td>\n",
              "      <td>2.453494e+06</td>\n",
              "      <td>2.465097e+06</td>\n",
              "      <td>2.479111e+06</td>\n",
              "      <td>2.494151e+06</td>\n",
              "      <td>2.509368e+06</td>\n",
              "      <td>2.525012e+06</td>\n",
              "      <td>2.539842e+06</td>\n",
              "      <td>2.552421e+06</td>\n",
              "      <td>2.565681e+06</td>\n",
              "      <td>2.580650e+06</td>\n",
              "      <td>2.596690e+06</td>\n",
              "      <td>2.613039e+06</td>\n",
              "      <td>2.629200e+06</td>\n",
              "      <td>2.644631e+06</td>\n",
              "      <td>2.657808e+06</td>\n",
              "      <td>2.670406e+06</td>\n",
              "      <td>2.684667e+06</td>\n",
              "      <td>2.699614e+06</td>\n",
              "      <td>2.714109e+06</td>\n",
              "      <td>2.728461e+06</td>\n",
              "      <td>2.741432e+06</td>\n",
              "      <td>2.752445e+06</td>\n",
              "      <td>2.763204e+06</td>\n",
              "      <td>2.775108e+06</td>\n",
              "      <td>2.787589e+06</td>\n",
              "      <td>2.797198e+06</td>\n",
              "      <td>2.808982e+06</td>\n",
              "      <td>2.819859e+06</td>\n",
              "      <td>2.828976e+06</td>\n",
              "      <td>2.837786e+06</td>\n",
              "      <td>2.847660e+06</td>\n",
              "      <td>2.857958e+06</td>\n",
              "      <td>2.867378e+06</td>\n",
              "      <td>2.875765e+06</td>\n",
              "      <td>2.883996e+06</td>\n",
              "    </tr>\n",
              "    <tr>\n",
              "      <th>min</th>\n",
              "      <td>-51.796300</td>\n",
              "      <td>-178.116500</td>\n",
              "      <td>0.000000</td>\n",
              "      <td>0.000000</td>\n",
              "      <td>0.000000</td>\n",
              "      <td>0.000000</td>\n",
              "      <td>0.000000</td>\n",
              "      <td>0.000000</td>\n",
              "      <td>0.000000</td>\n",
              "      <td>0.000000</td>\n",
              "      <td>0.000000</td>\n",
              "      <td>0.000000</td>\n",
              "      <td>0.000000</td>\n",
              "      <td>0.000000</td>\n",
              "      <td>0.000000</td>\n",
              "      <td>0.000000</td>\n",
              "      <td>0.000000</td>\n",
              "      <td>0.000000</td>\n",
              "      <td>0.000000</td>\n",
              "      <td>0.000000</td>\n",
              "      <td>0.000000</td>\n",
              "      <td>0.000000</td>\n",
              "      <td>0.000000</td>\n",
              "      <td>0.000000</td>\n",
              "      <td>0.000000</td>\n",
              "      <td>0.000000</td>\n",
              "      <td>0.000000</td>\n",
              "      <td>0.000000</td>\n",
              "      <td>0.000000</td>\n",
              "      <td>0.000000</td>\n",
              "      <td>0.000000</td>\n",
              "      <td>0.000000</td>\n",
              "      <td>0.000000</td>\n",
              "      <td>0.000000</td>\n",
              "      <td>0.000000</td>\n",
              "      <td>0.000000</td>\n",
              "      <td>0.000000</td>\n",
              "      <td>0.000000</td>\n",
              "      <td>0.000000</td>\n",
              "      <td>0.000000</td>\n",
              "      <td>...</td>\n",
              "      <td>0.000000e+00</td>\n",
              "      <td>0.000000e+00</td>\n",
              "      <td>0.000000e+00</td>\n",
              "      <td>0.000000e+00</td>\n",
              "      <td>0.000000e+00</td>\n",
              "      <td>0.000000e+00</td>\n",
              "      <td>0.000000e+00</td>\n",
              "      <td>0.000000e+00</td>\n",
              "      <td>0.000000e+00</td>\n",
              "      <td>0.000000e+00</td>\n",
              "      <td>0.000000e+00</td>\n",
              "      <td>0.000000e+00</td>\n",
              "      <td>0.000000e+00</td>\n",
              "      <td>0.000000e+00</td>\n",
              "      <td>0.000000e+00</td>\n",
              "      <td>0.000000e+00</td>\n",
              "      <td>0.000000e+00</td>\n",
              "      <td>0.000000e+00</td>\n",
              "      <td>0.000000e+00</td>\n",
              "      <td>0.000000e+00</td>\n",
              "      <td>0.000000e+00</td>\n",
              "      <td>0.000000e+00</td>\n",
              "      <td>0.000000e+00</td>\n",
              "      <td>0.000000e+00</td>\n",
              "      <td>0.000000e+00</td>\n",
              "      <td>0.000000e+00</td>\n",
              "      <td>0.000000e+00</td>\n",
              "      <td>0.000000e+00</td>\n",
              "      <td>0.000000e+00</td>\n",
              "      <td>0.000000e+00</td>\n",
              "      <td>0.000000e+00</td>\n",
              "      <td>0.000000e+00</td>\n",
              "      <td>0.000000e+00</td>\n",
              "      <td>0.000000e+00</td>\n",
              "      <td>0.000000e+00</td>\n",
              "      <td>0.000000e+00</td>\n",
              "      <td>0.000000e+00</td>\n",
              "      <td>0.000000e+00</td>\n",
              "      <td>0.000000e+00</td>\n",
              "      <td>0.000000e+00</td>\n",
              "    </tr>\n",
              "    <tr>\n",
              "      <th>25%</th>\n",
              "      <td>4.933349</td>\n",
              "      <td>-22.036550</td>\n",
              "      <td>0.000000</td>\n",
              "      <td>0.000000</td>\n",
              "      <td>0.000000</td>\n",
              "      <td>0.000000</td>\n",
              "      <td>0.000000</td>\n",
              "      <td>0.000000</td>\n",
              "      <td>0.000000</td>\n",
              "      <td>0.000000</td>\n",
              "      <td>0.000000</td>\n",
              "      <td>0.000000</td>\n",
              "      <td>0.000000</td>\n",
              "      <td>0.000000</td>\n",
              "      <td>0.000000</td>\n",
              "      <td>0.000000</td>\n",
              "      <td>0.000000</td>\n",
              "      <td>0.000000</td>\n",
              "      <td>0.000000</td>\n",
              "      <td>0.000000</td>\n",
              "      <td>0.000000</td>\n",
              "      <td>0.000000</td>\n",
              "      <td>0.000000</td>\n",
              "      <td>0.000000</td>\n",
              "      <td>0.000000</td>\n",
              "      <td>0.000000</td>\n",
              "      <td>0.000000</td>\n",
              "      <td>0.000000</td>\n",
              "      <td>0.000000</td>\n",
              "      <td>0.000000</td>\n",
              "      <td>0.000000</td>\n",
              "      <td>0.000000</td>\n",
              "      <td>0.000000</td>\n",
              "      <td>0.000000</td>\n",
              "      <td>0.000000</td>\n",
              "      <td>0.000000</td>\n",
              "      <td>0.000000</td>\n",
              "      <td>0.000000</td>\n",
              "      <td>0.000000</td>\n",
              "      <td>0.000000</td>\n",
              "      <td>...</td>\n",
              "      <td>1.072750e+03</td>\n",
              "      <td>1.075750e+03</td>\n",
              "      <td>1.078750e+03</td>\n",
              "      <td>1.081750e+03</td>\n",
              "      <td>1.087000e+03</td>\n",
              "      <td>1.089500e+03</td>\n",
              "      <td>1.093500e+03</td>\n",
              "      <td>1.098000e+03</td>\n",
              "      <td>1.103500e+03</td>\n",
              "      <td>1.186250e+03</td>\n",
              "      <td>1.188750e+03</td>\n",
              "      <td>1.191250e+03</td>\n",
              "      <td>1.192500e+03</td>\n",
              "      <td>1.194500e+03</td>\n",
              "      <td>1.198750e+03</td>\n",
              "      <td>1.202000e+03</td>\n",
              "      <td>1.206250e+03</td>\n",
              "      <td>1.220750e+03</td>\n",
              "      <td>1.232750e+03</td>\n",
              "      <td>1.242250e+03</td>\n",
              "      <td>1.252250e+03</td>\n",
              "      <td>1.254500e+03</td>\n",
              "      <td>1.263750e+03</td>\n",
              "      <td>1.271250e+03</td>\n",
              "      <td>1.286750e+03</td>\n",
              "      <td>1.304750e+03</td>\n",
              "      <td>1.306250e+03</td>\n",
              "      <td>1.308750e+03</td>\n",
              "      <td>1.312000e+03</td>\n",
              "      <td>1.316000e+03</td>\n",
              "      <td>1.316250e+03</td>\n",
              "      <td>1.316250e+03</td>\n",
              "      <td>1.316250e+03</td>\n",
              "      <td>1.316250e+03</td>\n",
              "      <td>1.316250e+03</td>\n",
              "      <td>1.316250e+03</td>\n",
              "      <td>1.328250e+03</td>\n",
              "      <td>1.335000e+03</td>\n",
              "      <td>1.346250e+03</td>\n",
              "      <td>1.351500e+03</td>\n",
              "    </tr>\n",
              "    <tr>\n",
              "      <th>50%</th>\n",
              "      <td>21.607879</td>\n",
              "      <td>20.921188</td>\n",
              "      <td>0.000000</td>\n",
              "      <td>0.000000</td>\n",
              "      <td>0.000000</td>\n",
              "      <td>0.000000</td>\n",
              "      <td>0.000000</td>\n",
              "      <td>0.000000</td>\n",
              "      <td>0.000000</td>\n",
              "      <td>0.000000</td>\n",
              "      <td>0.000000</td>\n",
              "      <td>0.000000</td>\n",
              "      <td>0.000000</td>\n",
              "      <td>0.000000</td>\n",
              "      <td>0.000000</td>\n",
              "      <td>0.000000</td>\n",
              "      <td>0.000000</td>\n",
              "      <td>0.000000</td>\n",
              "      <td>0.000000</td>\n",
              "      <td>0.000000</td>\n",
              "      <td>0.000000</td>\n",
              "      <td>0.000000</td>\n",
              "      <td>0.000000</td>\n",
              "      <td>0.000000</td>\n",
              "      <td>0.000000</td>\n",
              "      <td>0.000000</td>\n",
              "      <td>0.000000</td>\n",
              "      <td>0.000000</td>\n",
              "      <td>0.000000</td>\n",
              "      <td>0.000000</td>\n",
              "      <td>0.000000</td>\n",
              "      <td>0.000000</td>\n",
              "      <td>0.000000</td>\n",
              "      <td>0.000000</td>\n",
              "      <td>0.000000</td>\n",
              "      <td>0.000000</td>\n",
              "      <td>0.000000</td>\n",
              "      <td>0.000000</td>\n",
              "      <td>0.000000</td>\n",
              "      <td>0.000000</td>\n",
              "      <td>...</td>\n",
              "      <td>1.570250e+04</td>\n",
              "      <td>1.581700e+04</td>\n",
              "      <td>1.582550e+04</td>\n",
              "      <td>1.585550e+04</td>\n",
              "      <td>1.590000e+04</td>\n",
              "      <td>1.596350e+04</td>\n",
              "      <td>1.604700e+04</td>\n",
              "      <td>1.611450e+04</td>\n",
              "      <td>1.613050e+04</td>\n",
              "      <td>1.614600e+04</td>\n",
              "      <td>1.615850e+04</td>\n",
              "      <td>1.617200e+04</td>\n",
              "      <td>1.654100e+04</td>\n",
              "      <td>1.691050e+04</td>\n",
              "      <td>1.738000e+04</td>\n",
              "      <td>1.771900e+04</td>\n",
              "      <td>1.804700e+04</td>\n",
              "      <td>1.832650e+04</td>\n",
              "      <td>1.855650e+04</td>\n",
              "      <td>1.857350e+04</td>\n",
              "      <td>1.858650e+04</td>\n",
              "      <td>1.858900e+04</td>\n",
              "      <td>1.861850e+04</td>\n",
              "      <td>1.863200e+04</td>\n",
              "      <td>1.864600e+04</td>\n",
              "      <td>1.866250e+04</td>\n",
              "      <td>1.866750e+04</td>\n",
              "      <td>1.866950e+04</td>\n",
              "      <td>1.867650e+04</td>\n",
              "      <td>1.868250e+04</td>\n",
              "      <td>1.869000e+04</td>\n",
              "      <td>1.888950e+04</td>\n",
              "      <td>1.897900e+04</td>\n",
              "      <td>1.899650e+04</td>\n",
              "      <td>1.901950e+04</td>\n",
              "      <td>1.904750e+04</td>\n",
              "      <td>1.907100e+04</td>\n",
              "      <td>1.909950e+04</td>\n",
              "      <td>1.913300e+04</td>\n",
              "      <td>1.916150e+04</td>\n",
              "    </tr>\n",
              "    <tr>\n",
              "      <th>75%</th>\n",
              "      <td>40.950592</td>\n",
              "      <td>83.380449</td>\n",
              "      <td>0.000000</td>\n",
              "      <td>0.000000</td>\n",
              "      <td>0.000000</td>\n",
              "      <td>0.000000</td>\n",
              "      <td>0.000000</td>\n",
              "      <td>0.000000</td>\n",
              "      <td>0.000000</td>\n",
              "      <td>0.000000</td>\n",
              "      <td>0.000000</td>\n",
              "      <td>0.000000</td>\n",
              "      <td>0.000000</td>\n",
              "      <td>0.000000</td>\n",
              "      <td>0.000000</td>\n",
              "      <td>0.000000</td>\n",
              "      <td>0.000000</td>\n",
              "      <td>0.000000</td>\n",
              "      <td>0.000000</td>\n",
              "      <td>0.000000</td>\n",
              "      <td>0.000000</td>\n",
              "      <td>0.000000</td>\n",
              "      <td>0.000000</td>\n",
              "      <td>0.000000</td>\n",
              "      <td>0.000000</td>\n",
              "      <td>0.000000</td>\n",
              "      <td>0.000000</td>\n",
              "      <td>0.000000</td>\n",
              "      <td>0.000000</td>\n",
              "      <td>0.000000</td>\n",
              "      <td>0.000000</td>\n",
              "      <td>0.000000</td>\n",
              "      <td>0.000000</td>\n",
              "      <td>0.000000</td>\n",
              "      <td>0.000000</td>\n",
              "      <td>1.000000</td>\n",
              "      <td>1.000000</td>\n",
              "      <td>1.250000</td>\n",
              "      <td>2.000000</td>\n",
              "      <td>2.000000</td>\n",
              "      <td>...</td>\n",
              "      <td>2.155352e+05</td>\n",
              "      <td>2.169722e+05</td>\n",
              "      <td>2.185522e+05</td>\n",
              "      <td>2.200062e+05</td>\n",
              "      <td>2.213728e+05</td>\n",
              "      <td>2.219042e+05</td>\n",
              "      <td>2.223328e+05</td>\n",
              "      <td>2.233980e+05</td>\n",
              "      <td>2.248478e+05</td>\n",
              "      <td>2.263180e+05</td>\n",
              "      <td>2.275818e+05</td>\n",
              "      <td>2.285038e+05</td>\n",
              "      <td>2.289218e+05</td>\n",
              "      <td>2.293315e+05</td>\n",
              "      <td>2.305220e+05</td>\n",
              "      <td>2.316930e+05</td>\n",
              "      <td>2.328330e+05</td>\n",
              "      <td>2.340570e+05</td>\n",
              "      <td>2.352302e+05</td>\n",
              "      <td>2.356760e+05</td>\n",
              "      <td>2.361180e+05</td>\n",
              "      <td>2.371345e+05</td>\n",
              "      <td>2.384932e+05</td>\n",
              "      <td>2.396202e+05</td>\n",
              "      <td>2.409568e+05</td>\n",
              "      <td>2.419678e+05</td>\n",
              "      <td>2.424570e+05</td>\n",
              "      <td>2.439068e+05</td>\n",
              "      <td>2.465390e+05</td>\n",
              "      <td>2.492698e+05</td>\n",
              "      <td>2.504960e+05</td>\n",
              "      <td>2.512458e+05</td>\n",
              "      <td>2.518208e+05</td>\n",
              "      <td>2.522262e+05</td>\n",
              "      <td>2.525150e+05</td>\n",
              "      <td>2.527770e+05</td>\n",
              "      <td>2.530820e+05</td>\n",
              "      <td>2.533535e+05</td>\n",
              "      <td>2.535725e+05</td>\n",
              "      <td>2.540952e+05</td>\n",
              "    </tr>\n",
              "    <tr>\n",
              "      <th>max</th>\n",
              "      <td>71.706900</td>\n",
              "      <td>178.065000</td>\n",
              "      <td>444.000000</td>\n",
              "      <td>444.000000</td>\n",
              "      <td>549.000000</td>\n",
              "      <td>761.000000</td>\n",
              "      <td>1058.000000</td>\n",
              "      <td>1423.000000</td>\n",
              "      <td>3554.000000</td>\n",
              "      <td>3554.000000</td>\n",
              "      <td>4903.000000</td>\n",
              "      <td>5806.000000</td>\n",
              "      <td>7153.000000</td>\n",
              "      <td>11177.000000</td>\n",
              "      <td>13522.000000</td>\n",
              "      <td>16678.000000</td>\n",
              "      <td>19665.000000</td>\n",
              "      <td>22112.000000</td>\n",
              "      <td>24953.000000</td>\n",
              "      <td>27100.000000</td>\n",
              "      <td>29631.000000</td>\n",
              "      <td>31728.000000</td>\n",
              "      <td>33366.000000</td>\n",
              "      <td>33366.000000</td>\n",
              "      <td>48206.000000</td>\n",
              "      <td>54406.000000</td>\n",
              "      <td>56249.000000</td>\n",
              "      <td>58182.000000</td>\n",
              "      <td>59989.000000</td>\n",
              "      <td>61682.000000</td>\n",
              "      <td>62031.000000</td>\n",
              "      <td>62442.000000</td>\n",
              "      <td>62662.000000</td>\n",
              "      <td>64084.000000</td>\n",
              "      <td>64084.000000</td>\n",
              "      <td>64287.000000</td>\n",
              "      <td>64786.000000</td>\n",
              "      <td>65187.000000</td>\n",
              "      <td>65596.000000</td>\n",
              "      <td>65914.000000</td>\n",
              "      <td>...</td>\n",
              "      <td>3.179924e+07</td>\n",
              "      <td>3.186209e+07</td>\n",
              "      <td>3.192935e+07</td>\n",
              "      <td>3.199175e+07</td>\n",
              "      <td>3.204511e+07</td>\n",
              "      <td>3.207718e+07</td>\n",
              "      <td>3.212487e+07</td>\n",
              "      <td>3.217572e+07</td>\n",
              "      <td>3.223085e+07</td>\n",
              "      <td>3.228905e+07</td>\n",
              "      <td>3.234697e+07</td>\n",
              "      <td>3.239227e+07</td>\n",
              "      <td>3.242164e+07</td>\n",
              "      <td>3.247220e+07</td>\n",
              "      <td>3.251293e+07</td>\n",
              "      <td>3.255767e+07</td>\n",
              "      <td>3.260518e+07</td>\n",
              "      <td>3.265247e+07</td>\n",
              "      <td>3.268696e+07</td>\n",
              "      <td>3.270836e+07</td>\n",
              "      <td>3.274526e+07</td>\n",
              "      <td>3.277891e+07</td>\n",
              "      <td>3.281478e+07</td>\n",
              "      <td>3.285287e+07</td>\n",
              "      <td>3.289517e+07</td>\n",
              "      <td>3.292398e+07</td>\n",
              "      <td>3.294085e+07</td>\n",
              "      <td>3.296951e+07</td>\n",
              "      <td>3.299733e+07</td>\n",
              "      <td>3.302662e+07</td>\n",
              "      <td>3.305676e+07</td>\n",
              "      <td>3.308511e+07</td>\n",
              "      <td>3.310488e+07</td>\n",
              "      <td>3.311774e+07</td>\n",
              "      <td>3.314366e+07</td>\n",
              "      <td>3.316642e+07</td>\n",
              "      <td>3.319047e+07</td>\n",
              "      <td>3.321800e+07</td>\n",
              "      <td>3.323996e+07</td>\n",
              "      <td>3.325194e+07</td>\n",
              "    </tr>\n",
              "  </tbody>\n",
              "</table>\n",
              "<p>8 rows × 496 columns</p>\n",
              "</div>"
            ],
            "text/plain": [
              "              Lat        Long  ...       5/28/21       5/29/21\n",
              "count  274.000000  274.000000  ...  2.760000e+02  2.760000e+02\n",
              "mean    20.447559   22.328281  ...  6.140244e+05  6.157665e+05\n",
              "std     25.189838   74.369096  ...  2.875765e+06  2.883996e+06\n",
              "min    -51.796300 -178.116500  ...  0.000000e+00  0.000000e+00\n",
              "25%      4.933349  -22.036550  ...  1.346250e+03  1.351500e+03\n",
              "50%     21.607879   20.921188  ...  1.913300e+04  1.916150e+04\n",
              "75%     40.950592   83.380449  ...  2.535725e+05  2.540952e+05\n",
              "max     71.706900  178.065000  ...  3.323996e+07  3.325194e+07\n",
              "\n",
              "[8 rows x 496 columns]"
            ]
          },
          "metadata": {},
          "execution_count": 9
        }
      ]
    },
    {
      "cell_type": "code",
      "metadata": {
        "ExecuteTime": {
          "end_time": "2021-10-13T09:02:24.206834Z",
          "start_time": "2021-10-13T09:02:24.184801Z"
        },
        "code_folding": [],
        "deletable": false,
        "editable": false,
        "nbgrader": {
          "cell_type": "code",
          "checksum": "49a35b67f7371d09f3b3df70f4844a72",
          "grade": false,
          "grade_id": "cell-df028996c0ec05b4",
          "locked": true,
          "schema_version": 3,
          "solution": false,
          "task": false
        },
        "colab": {
          "base_uri": "https://localhost:8080/",
          "height": 227,
          "referenced_widgets": [
            "03f2ebaf48254956aa677ca26611d257",
            "9225fad07d9b433c8aeaadf585730369",
            "ff62178838804e29ac3f7b07def229ca"
          ]
        },
        "id": "8cEPQG8ajjHn",
        "outputId": "ccec6396-6557-479b-9c7c-bbfcb8960159"
      },
      "source": [
        "ans1b=Ex2code.task1b()\n",
        "display(ans1b)"
      ],
      "execution_count": 10,
      "outputs": [
        {
          "output_type": "stream",
          "name": "stdout",
          "text": [
            "Which of the features contains most missing values\n"
          ]
        },
        {
          "output_type": "display_data",
          "data": {
            "application/vnd.jupyter.widget-view+json": {
              "model_id": "03f2ebaf48254956aa677ca26611d257",
              "version_minor": 0,
              "version_major": 2
            },
            "text/plain": [
              "RadioButtons(description='Select feature:', options=(('No selection', -1), ('There are no missing values', 0),…"
            ]
          },
          "metadata": {}
        }
      ]
    },
    {
      "cell_type": "code",
      "metadata": {
        "ExecuteTime": {
          "end_time": "2021-10-13T09:20:44.749127Z",
          "start_time": "2021-10-13T09:20:44.742429Z"
        },
        "deletable": false,
        "editable": false,
        "nbgrader": {
          "cell_type": "code",
          "checksum": "ea5bb860d6aae024a857e32f08ea87a3",
          "grade": true,
          "grade_id": "cell-12bc6b10d571e6cc",
          "locked": true,
          "points": 1,
          "schema_version": 3,
          "solution": false,
          "task": false
        },
        "id": "c9RSXyu9jjHt"
      },
      "source": [
        "assert(ans1b.value>=0), \"Please make a selection from the previous menu\"\n"
      ],
      "execution_count": 11,
      "outputs": []
    },
    {
      "cell_type": "markdown",
      "metadata": {
        "id": "an9z4l4qjjH1"
      },
      "source": [
        "#### Task 1 c) Missing values\n",
        "What would be the best strategy to mitigate missing values if we are interested only in Finnish situation? Drop rows with missing values, Drop columns with missing values or impute missing values with empty strings?\n"
      ]
    },
    {
      "cell_type": "code",
      "metadata": {
        "ExecuteTime": {
          "end_time": "2021-10-12T19:12:18.116561Z",
          "start_time": "2021-10-12T19:12:17.994261Z"
        },
        "deletable": false,
        "nbgrader": {
          "cell_type": "code",
          "checksum": "0f71ab8794b779c15ccecd0fa39eb27f",
          "grade": false,
          "grade_id": "cell-1f28c244a918f971",
          "locked": false,
          "schema_version": 3,
          "solution": true,
          "task": false
        },
        "colab": {
          "base_uri": "https://localhost:8080/",
          "height": 148
        },
        "id": "iWowS54NjjH3",
        "outputId": "82035746-8508-4bc9-80f4-40551f8b0564"
      },
      "source": [
        "# Write your code for studying the data here and then select correct answer from the \n",
        "# list in the next cell\n",
        "\n",
        "# YOUR CODE HERE\n",
        "FinDF = D[D['Country/Region'] == 'Finland'].iloc[:, 4:]\n",
        "missingF = FinDF.columns[FinDF.isnull().any()]\n",
        "print(missingF)\n",
        "# Finland is not missing any data. No need for any data imputation action.\n",
        "\n",
        "FinDF.head()"
      ],
      "execution_count": 12,
      "outputs": [
        {
          "output_type": "stream",
          "name": "stdout",
          "text": [
            "Index([], dtype='object')\n"
          ]
        },
        {
          "output_type": "execute_result",
          "data": {
            "text/html": [
              "<div>\n",
              "<style scoped>\n",
              "    .dataframe tbody tr th:only-of-type {\n",
              "        vertical-align: middle;\n",
              "    }\n",
              "\n",
              "    .dataframe tbody tr th {\n",
              "        vertical-align: top;\n",
              "    }\n",
              "\n",
              "    .dataframe thead th {\n",
              "        text-align: right;\n",
              "    }\n",
              "</style>\n",
              "<table border=\"1\" class=\"dataframe\">\n",
              "  <thead>\n",
              "    <tr style=\"text-align: right;\">\n",
              "      <th></th>\n",
              "      <th>1/22/20</th>\n",
              "      <th>1/23/20</th>\n",
              "      <th>1/24/20</th>\n",
              "      <th>1/25/20</th>\n",
              "      <th>1/26/20</th>\n",
              "      <th>1/27/20</th>\n",
              "      <th>1/28/20</th>\n",
              "      <th>1/29/20</th>\n",
              "      <th>1/30/20</th>\n",
              "      <th>1/31/20</th>\n",
              "      <th>2/1/20</th>\n",
              "      <th>2/2/20</th>\n",
              "      <th>2/3/20</th>\n",
              "      <th>2/4/20</th>\n",
              "      <th>2/5/20</th>\n",
              "      <th>2/6/20</th>\n",
              "      <th>2/7/20</th>\n",
              "      <th>2/8/20</th>\n",
              "      <th>2/9/20</th>\n",
              "      <th>2/10/20</th>\n",
              "      <th>2/11/20</th>\n",
              "      <th>2/12/20</th>\n",
              "      <th>2/13/20</th>\n",
              "      <th>2/14/20</th>\n",
              "      <th>2/15/20</th>\n",
              "      <th>2/16/20</th>\n",
              "      <th>2/17/20</th>\n",
              "      <th>2/18/20</th>\n",
              "      <th>2/19/20</th>\n",
              "      <th>2/20/20</th>\n",
              "      <th>2/21/20</th>\n",
              "      <th>2/22/20</th>\n",
              "      <th>2/23/20</th>\n",
              "      <th>2/24/20</th>\n",
              "      <th>2/25/20</th>\n",
              "      <th>2/26/20</th>\n",
              "      <th>2/27/20</th>\n",
              "      <th>2/28/20</th>\n",
              "      <th>2/29/20</th>\n",
              "      <th>3/1/20</th>\n",
              "      <th>...</th>\n",
              "      <th>4/20/21</th>\n",
              "      <th>4/21/21</th>\n",
              "      <th>4/22/21</th>\n",
              "      <th>4/23/21</th>\n",
              "      <th>4/24/21</th>\n",
              "      <th>4/25/21</th>\n",
              "      <th>4/26/21</th>\n",
              "      <th>4/27/21</th>\n",
              "      <th>4/28/21</th>\n",
              "      <th>4/29/21</th>\n",
              "      <th>4/30/21</th>\n",
              "      <th>5/1/21</th>\n",
              "      <th>5/2/21</th>\n",
              "      <th>5/3/21</th>\n",
              "      <th>5/4/21</th>\n",
              "      <th>5/5/21</th>\n",
              "      <th>5/6/21</th>\n",
              "      <th>5/7/21</th>\n",
              "      <th>5/8/21</th>\n",
              "      <th>5/9/21</th>\n",
              "      <th>5/10/21</th>\n",
              "      <th>5/11/21</th>\n",
              "      <th>5/12/21</th>\n",
              "      <th>5/13/21</th>\n",
              "      <th>5/14/21</th>\n",
              "      <th>5/15/21</th>\n",
              "      <th>5/16/21</th>\n",
              "      <th>5/17/21</th>\n",
              "      <th>5/18/21</th>\n",
              "      <th>5/19/21</th>\n",
              "      <th>5/20/21</th>\n",
              "      <th>5/21/21</th>\n",
              "      <th>5/22/21</th>\n",
              "      <th>5/23/21</th>\n",
              "      <th>5/24/21</th>\n",
              "      <th>5/25/21</th>\n",
              "      <th>5/26/21</th>\n",
              "      <th>5/27/21</th>\n",
              "      <th>5/28/21</th>\n",
              "      <th>5/29/21</th>\n",
              "    </tr>\n",
              "  </thead>\n",
              "  <tbody>\n",
              "    <tr>\n",
              "      <th>118</th>\n",
              "      <td>0</td>\n",
              "      <td>0</td>\n",
              "      <td>0</td>\n",
              "      <td>0</td>\n",
              "      <td>0</td>\n",
              "      <td>0</td>\n",
              "      <td>0</td>\n",
              "      <td>1</td>\n",
              "      <td>1</td>\n",
              "      <td>1</td>\n",
              "      <td>1</td>\n",
              "      <td>1</td>\n",
              "      <td>1</td>\n",
              "      <td>1</td>\n",
              "      <td>1</td>\n",
              "      <td>1</td>\n",
              "      <td>1</td>\n",
              "      <td>1</td>\n",
              "      <td>1</td>\n",
              "      <td>1</td>\n",
              "      <td>1</td>\n",
              "      <td>1</td>\n",
              "      <td>1</td>\n",
              "      <td>1</td>\n",
              "      <td>1</td>\n",
              "      <td>1</td>\n",
              "      <td>1</td>\n",
              "      <td>1</td>\n",
              "      <td>1</td>\n",
              "      <td>1</td>\n",
              "      <td>1</td>\n",
              "      <td>1</td>\n",
              "      <td>1</td>\n",
              "      <td>1</td>\n",
              "      <td>1</td>\n",
              "      <td>2</td>\n",
              "      <td>2</td>\n",
              "      <td>2</td>\n",
              "      <td>3</td>\n",
              "      <td>6</td>\n",
              "      <td>...</td>\n",
              "      <td>84501</td>\n",
              "      <td>84797</td>\n",
              "      <td>85077</td>\n",
              "      <td>85344</td>\n",
              "      <td>85607</td>\n",
              "      <td>85804</td>\n",
              "      <td>85937</td>\n",
              "      <td>86161</td>\n",
              "      <td>86405</td>\n",
              "      <td>86613</td>\n",
              "      <td>86808</td>\n",
              "      <td>87096</td>\n",
              "      <td>87228</td>\n",
              "      <td>87345</td>\n",
              "      <td>87529</td>\n",
              "      <td>87798</td>\n",
              "      <td>88078</td>\n",
              "      <td>88332</td>\n",
              "      <td>88561</td>\n",
              "      <td>88723</td>\n",
              "      <td>88866</td>\n",
              "      <td>88990</td>\n",
              "      <td>89270</td>\n",
              "      <td>89532</td>\n",
              "      <td>89686</td>\n",
              "      <td>89878</td>\n",
              "      <td>90105</td>\n",
              "      <td>90249</td>\n",
              "      <td>90398</td>\n",
              "      <td>90687</td>\n",
              "      <td>90946</td>\n",
              "      <td>91157</td>\n",
              "      <td>91405</td>\n",
              "      <td>91526</td>\n",
              "      <td>91619</td>\n",
              "      <td>91744</td>\n",
              "      <td>91964</td>\n",
              "      <td>92062</td>\n",
              "      <td>92244</td>\n",
              "      <td>92244</td>\n",
              "    </tr>\n",
              "  </tbody>\n",
              "</table>\n",
              "<p>1 rows × 494 columns</p>\n",
              "</div>"
            ],
            "text/plain": [
              "     1/22/20  1/23/20  1/24/20  1/25/20  ...  5/26/21  5/27/21  5/28/21  5/29/21\n",
              "118        0        0        0        0  ...    91964    92062    92244    92244\n",
              "\n",
              "[1 rows x 494 columns]"
            ]
          },
          "metadata": {},
          "execution_count": 12
        }
      ]
    },
    {
      "cell_type": "code",
      "metadata": {
        "ExecuteTime": {
          "end_time": "2021-10-13T09:02:43.687259Z",
          "start_time": "2021-10-13T09:02:43.662340Z"
        },
        "deletable": false,
        "editable": false,
        "nbgrader": {
          "cell_type": "code",
          "checksum": "920c719b63c7f85757d3e4f953b5a81e",
          "grade": false,
          "grade_id": "cell-78bf7bbbc09a1b5d",
          "locked": true,
          "schema_version": 3,
          "solution": false,
          "task": false
        },
        "colab": {
          "base_uri": "https://localhost:8080/",
          "height": 145,
          "referenced_widgets": [
            "c9b4f47ee62b4124a98c46e6f3011e4b",
            "8e26738ee6eb41c8967cbd96af60f13c",
            "f6f424e014ee4c1ca567a6fd1682ecce"
          ]
        },
        "id": "RZLWRz2ajjH5",
        "outputId": "d21824a8-a80e-4071-cb1e-6f9bb0a40091"
      },
      "source": [
        "ans1c=Ex2code.task1c()\n",
        "display(ans1c)"
      ],
      "execution_count": 13,
      "outputs": [
        {
          "output_type": "display_data",
          "data": {
            "application/vnd.jupyter.widget-view+json": {
              "model_id": "c9b4f47ee62b4124a98c46e6f3011e4b",
              "version_minor": 0,
              "version_major": 2
            },
            "text/plain": [
              "RadioButtons(description='Strategy:', options=('No selection', 'Drop columns', 'Drop rows', 'Imputation', 'Non…"
            ]
          },
          "metadata": {}
        }
      ]
    },
    {
      "cell_type": "code",
      "metadata": {
        "ExecuteTime": {
          "end_time": "2021-10-12T19:13:05.410092Z",
          "start_time": "2021-10-12T19:13:05.388625Z"
        },
        "deletable": false,
        "editable": false,
        "nbgrader": {
          "cell_type": "code",
          "checksum": "c46ae396569af9f0a632bcddecba48c1",
          "grade": true,
          "grade_id": "cell-4957dc3fe0a5d4a7",
          "locked": true,
          "points": 1,
          "schema_version": 3,
          "solution": false,
          "task": false
        },
        "colab": {
          "base_uri": "https://localhost:8080/"
        },
        "id": "U5lLPlgVjjH7",
        "outputId": "e8c0ba9a-3319-421e-f971-fa396c146c25"
      },
      "source": [
        "print(ans1c.value)\n",
        "assert(ans1c.value!=\"No selection\"), \"Please make a selection from the previous menu\"\n"
      ],
      "execution_count": 14,
      "outputs": [
        {
          "output_type": "stream",
          "name": "stdout",
          "text": [
            "None\n"
          ]
        }
      ]
    },
    {
      "cell_type": "markdown",
      "metadata": {
        "deletable": false,
        "editable": false,
        "nbgrader": {
          "cell_type": "markdown",
          "checksum": "5f4df997230e81cf717b7cde17427040",
          "grade": false,
          "grade_id": "cell-50d2869d3a3a4b41",
          "locked": true,
          "schema_version": 3,
          "solution": false,
          "task": false
        },
        "id": "8HrHKJA1jjH9"
      },
      "source": [
        "### Task 2: Slice and plot Finnish Covid cases\n",
        "\n",
        "Select the data to represent confirmed Covid cases in Finland, by selecting the right row, and only those columns, which shows the numbers of cases (all columns except first four). Transpose the selected slice of the Dataframe, using transpose operator `.T`. This makes rows to become columns and columns to become rows, just like the transpose of a Matrix in mathematics. You can chain the `.loc`, `.iloc` and `.T` operators in one line to accomplish your task.\n",
        "\n",
        "Save this resulting one-column dataframe by name `DF` in the workspace, and plot it using `.plot()` -function.\n"
      ]
    },
    {
      "cell_type": "code",
      "metadata": {
        "ExecuteTime": {
          "end_time": "2021-10-12T18:55:16.665042Z",
          "start_time": "2021-10-12T18:55:16.438338Z"
        },
        "deletable": false,
        "nbgrader": {
          "cell_type": "code",
          "checksum": "e0ba5e58891dfbe38f40efafc5389ece",
          "grade": false,
          "grade_id": "cell-384aa526eb314739",
          "locked": false,
          "schema_version": 3,
          "solution": true,
          "task": false
        },
        "colab": {
          "base_uri": "https://localhost:8080/",
          "height": 305
        },
        "id": "o7c3WvzxjjH_",
        "outputId": "510887bf-7444-4049-a620-7b4de9d7e1e2"
      },
      "source": [
        "# YOUR CODE HERE\n",
        "option = ['Finland']\n",
        "#DF = D[D['Country/Region'].isin(option)]\n",
        "#DF = D[D['Country/Region'] == 'Finland'].iloc[[0],[4,-1]]\n",
        "DF = D[D['Country/Region'] == 'Finland'].iloc[:, 4:].T\n",
        "DF.set_axis(['Cases'], axis=1, inplace=True)\n",
        "DF.head()\n",
        "missing = DF.columns[DF.isnull().any()]\n",
        "print('Missing value',missing)\n",
        "DF.to_csv('/content/DF.csv', index=False)\n",
        "DF.plot()"
      ],
      "execution_count": 15,
      "outputs": [
        {
          "output_type": "stream",
          "name": "stdout",
          "text": [
            "Missing value Index([], dtype='object')\n"
          ]
        },
        {
          "output_type": "execute_result",
          "data": {
            "text/plain": [
              "<matplotlib.axes._subplots.AxesSubplot at 0x7fe9bbf2fad0>"
            ]
          },
          "metadata": {},
          "execution_count": 15
        },
        {
          "output_type": "display_data",
          "data": {
            "image/png": "[encoded data removed]",
            "text/plain": [
              "<Figure size 432x288 with 1 Axes>"
            ]
          },
          "metadata": {}
        }
      ]
    },
    {
      "cell_type": "code",
      "metadata": {
        "ExecuteTime": {
          "end_time": "2021-10-12T18:43:17.107645Z",
          "start_time": "2021-10-12T18:43:17.056007Z"
        },
        "deletable": false,
        "editable": false,
        "nbgrader": {
          "cell_type": "code",
          "checksum": "0a0ee0aa283e5af035c57b3f194c56dc",
          "grade": true,
          "grade_id": "cell-dd2991cc709c91d5",
          "locked": true,
          "points": 2,
          "schema_version": 3,
          "solution": false,
          "task": false
        },
        "id": "YnD43WELjjIE"
      },
      "source": [
        "assert(DF.shape==(494,1))"
      ],
      "execution_count": 16,
      "outputs": []
    },
    {
      "cell_type": "markdown",
      "metadata": {
        "deletable": false,
        "editable": false,
        "nbgrader": {
          "cell_type": "markdown",
          "checksum": "edf3889aa8e38863bf5c24eeb7e8bbab",
          "grade": false,
          "grade_id": "cell-3891aad33a622798",
          "locked": true,
          "schema_version": 3,
          "solution": false,
          "task": false
        },
        "id": "Tl2B0tiYjjII"
      },
      "source": [
        "### Task 3: Parse timestamps to datetime objects\n",
        "The data looks familiar and would be usefull already for many purposes, but it has still a problem. This is obviously a time series, but the computer does not yet understand what the values in time-axis are, and they are handled just strings without meaning. \n",
        "\n",
        "To let the computer understand them, they needs to be parsed to datetime objects. Any string can be parsed to datetime using string parser function, called `strptime()`. It uses a template for mathing a string to years (`%y`), months (`%m`) and days (`%d`). See more exact description from the [documentation](https://www.programiz.com/python-programming/datetime/strptime).\n",
        "\n",
        "The function for parsing the timestamp strings is provided below.\n"
      ]
    },
    {
      "cell_type": "code",
      "metadata": {
        "ExecuteTime": {
          "end_time": "2021-10-12T18:43:22.999518Z",
          "start_time": "2021-10-12T18:43:22.983659Z"
        },
        "deletable": false,
        "editable": false,
        "nbgrader": {
          "cell_type": "code",
          "checksum": "377c730894100cdbdd6ec061257c80a4",
          "grade": false,
          "grade_id": "cell-99dbc583693250d4",
          "locked": true,
          "schema_version": 3,
          "solution": false,
          "task": false
        },
        "colab": {
          "base_uri": "https://localhost:8080/"
        },
        "id": "g8hMmE0-jjIZ",
        "outputId": "0305945c-14bf-4ab0-e55f-19b16881dfad"
      },
      "source": [
        "#task4\n",
        "indexes=DF.index\n",
        "\n",
        "from datetime import datetime\n",
        "\n",
        "# Parse a timestamp\n",
        "def parseTime(s):\n",
        "    return datetime.strptime(s, \"%m/%d/%y\")\n",
        "\n",
        "DF.index"
      ],
      "execution_count": 17,
      "outputs": [
        {
          "output_type": "execute_result",
          "data": {
            "text/plain": [
              "Index(['1/22/20', '1/23/20', '1/24/20', '1/25/20', '1/26/20', '1/27/20',\n",
              "       '1/28/20', '1/29/20', '1/30/20', '1/31/20',\n",
              "       ...\n",
              "       '5/20/21', '5/21/21', '5/22/21', '5/23/21', '5/24/21', '5/25/21',\n",
              "       '5/26/21', '5/27/21', '5/28/21', '5/29/21'],\n",
              "      dtype='object', length=494)"
            ]
          },
          "metadata": {},
          "execution_count": 17
        }
      ]
    },
    {
      "cell_type": "markdown",
      "metadata": {
        "deletable": false,
        "editable": false,
        "nbgrader": {
          "cell_type": "markdown",
          "checksum": "19298f18e6581e8a48c2c9c85a8be942",
          "grade": false,
          "grade_id": "cell-c05cbc4e0d3ffe40",
          "locked": true,
          "schema_version": 3,
          "solution": false,
          "task": false
        },
        "id": "EwrJ2HANjjIc"
      },
      "source": [
        "Replace the index of `DF` by parsing the list of values in it into list of datetime objects, and assign it to the new index. \n",
        "\n",
        "You can read the values of the current index, using a read/write property `.index` of the dataframe, and you can update the index by assigning a list of datetime objects into it. \n",
        "\n",
        "You can apply the previous `parseTime()`-function to all values in a list of date-strings by using a `map()` function in python as follows\n",
        "\n",
        " `map(parseTime, listOfStringValues)`\n",
        " \n",
        " See more from [documentation](https://www.programiz.com/python-programming/methods/built-in/map).\n",
        " \n",
        " Note that if you try to run it again, it will give you an error, since the index values are no longer strings, which could be parsed again.\n",
        " \n",
        " Now plot the data again, and you will notice that the computer now understands the time axis and can show it differently.\n",
        " \n",
        " Try to slice the data and only plot the values for september (`DF.loc['yyyy-mm']`). See how the time axis is scaled again."
      ]
    },
    {
      "cell_type": "code",
      "metadata": {
        "ExecuteTime": {
          "end_time": "2021-10-12T18:57:19.768823Z",
          "start_time": "2021-10-12T18:57:19.118376Z"
        },
        "deletable": false,
        "nbgrader": {
          "cell_type": "code",
          "checksum": "3232bd148b0659933f0a087d4ffbef88",
          "grade": false,
          "grade_id": "cell-04ebd028e3a77d06",
          "locked": false,
          "schema_version": 3,
          "solution": true,
          "task": false
        },
        "colab": {
          "base_uri": "https://localhost:8080/",
          "height": 213
        },
        "id": "dZsvFx7SjjIf",
        "outputId": "521b3031-8782-43c2-af22-2ec1ebf406e1"
      },
      "source": [
        "# YOUR CODE HERE\n",
        "DF.index = map(parseTime,DF.index)\n",
        "#DF.plot(figsize=(6,6))\n",
        "#DF.loc['2020-09'].plot(figsize=(6,6))\n",
        "\n",
        "fig, ax = plt.subplots(1, 2, figsize=(12, 3))\n",
        "#fig.tight_layout()\n",
        "ax[0].plot(DF)\n",
        "ax[1].plot(DF.loc['2020-09'])\n",
        "\n",
        "plt.show()"
      ],
      "execution_count": 18,
      "outputs": [
        {
          "output_type": "display_data",
          "data": {
            "image/png": "[encoded data removed]",
            "text/plain": [
              "<Figure size 864x216 with 2 Axes>"
            ]
          },
          "metadata": {}
        }
      ]
    },
    {
      "cell_type": "code",
      "metadata": {
        "ExecuteTime": {
          "end_time": "2021-10-12T18:57:47.319972Z",
          "start_time": "2021-10-12T18:57:47.303401Z"
        },
        "deletable": false,
        "editable": false,
        "nbgrader": {
          "cell_type": "code",
          "checksum": "62814c169a0bb0047af05c6d9084bdca",
          "grade": true,
          "grade_id": "cell-f5f06c8b398ff91e",
          "locked": true,
          "points": 2,
          "schema_version": 3,
          "solution": false,
          "task": false
        },
        "id": "42ue_ms1jjIh"
      },
      "source": [
        "#assert((DF.loc['2020-09-23']==5343).values[0])\n",
        "assert((DF.loc['2020-09-23']==9288).values[0])"
      ],
      "execution_count": 19,
      "outputs": []
    },
    {
      "cell_type": "markdown",
      "metadata": {
        "deletable": false,
        "editable": false,
        "nbgrader": {
          "cell_type": "markdown",
          "checksum": "acfad9e633121a188846efd84f166452",
          "grade": false,
          "grade_id": "cell-786420cd5eec7cd0",
          "locked": true,
          "schema_version": 3,
          "solution": false,
          "task": false
        },
        "id": "NVWo4-S0jjIq"
      },
      "source": [
        "### Task 5: Differentiate to get the daily cases\n",
        "\n",
        "Now calculate the daily cases, by calculating the difference of the cumulative number of confirmed cases, using the `.diff()` function of the dataframe as name `daily`, and plot it. \n",
        "\n",
        "If you have time, you can also smooth the daily graph by using a rolling average (`.rolling()`), and plot the smoothed curve in different plot or the same plot. See examples from:\n",
        "- Pandas [diff function](https://pandas.pydata.org/pandas-docs/stable/reference/api/pandas.DataFrame.diff.html)\n",
        "- Pandas [rolling function](https://pandas.pydata.org/pandas-docs/stable/reference/api/pandas.DataFrame.rolling.html)\n",
        "\n",
        "Tip: If you want to plot both graphs in one figure, let the first plot return an axis object `ax` and define the new plot to use that same axis, as follows:\n",
        "\n",
        "`\n",
        "ax = daily. ... .plot(...)\n",
        "daily. ... .plot(ax=ax)\n",
        "`"
      ]
    },
    {
      "cell_type": "code",
      "metadata": {
        "ExecuteTime": {
          "end_time": "2021-10-12T18:57:55.219358Z",
          "start_time": "2021-10-12T18:57:54.723087Z"
        },
        "deletable": false,
        "nbgrader": {
          "cell_type": "code",
          "checksum": "d2312370814571dd7575a08ba0db29ef",
          "grade": false,
          "grade_id": "cell-5eb1bffa3a0c4d15",
          "locked": false,
          "schema_version": 3,
          "solution": true,
          "task": false
        },
        "colab": {
          "base_uri": "https://localhost:8080/",
          "height": 395
        },
        "id": "IqBR2pgCjjIs",
        "outputId": "bb8cd41b-bf30-4e08-e35f-405237a0b81a"
      },
      "source": [
        "# YOUR CODE HERE\n",
        "fig, ax = plt.subplots(1, 2, figsize=(12, 6))\n",
        "daily = DF.diff()\n",
        "#daily.plot(figsize=(6,5))\n",
        "daily2 = daily.rolling(7).sum()\n",
        "#daily2.plot(figsize=(6,5))\n",
        "ax[0].plot(daily)\n",
        "ax[1].plot(daily2)"
      ],
      "execution_count": 20,
      "outputs": [
        {
          "output_type": "execute_result",
          "data": {
            "text/plain": [
              "[<matplotlib.lines.Line2D at 0x7fe9bbd1ae50>]"
            ]
          },
          "metadata": {},
          "execution_count": 20
        },
        {
          "output_type": "display_data",
          "data": {
            "image/png": "[encoded data removed]",
            "text/plain": [
              "<Figure size 864x432 with 2 Axes>"
            ]
          },
          "metadata": {}
        }
      ]
    },
    {
      "cell_type": "code",
      "metadata": {
        "ExecuteTime": {
          "end_time": "2021-10-12T18:58:09.662966Z",
          "start_time": "2021-10-12T18:58:09.605270Z"
        },
        "deletable": false,
        "editable": false,
        "nbgrader": {
          "cell_type": "code",
          "checksum": "d2c5b4c23e57588e5cfe0280ea370e68",
          "grade": true,
          "grade_id": "cell-4212a0eb49229648",
          "locked": true,
          "points": 2,
          "schema_version": 3,
          "solution": false,
          "task": false
        },
        "colab": {
          "base_uri": "https://localhost:8080/"
        },
        "id": "F1I0CtTRjjIu",
        "outputId": "6f6fe28b-892c-45b2-afab-e58d6eb6849b"
      },
      "source": [
        "assert(daily.shape==(494,1)), \"The shape of the differentiated data does not seem right\"\n",
        "print(daily.loc['2020-09-23'])\n",
        "#assert(daily.loc['2020-09-23'].values[0]==36)\n",
        "assert(daily.loc['2020-09-23'].values[0]==93)"
      ],
      "execution_count": 21,
      "outputs": [
        {
          "output_type": "stream",
          "name": "stdout",
          "text": [
            "Cases    93.0\n",
            "Name: 2020-09-23 00:00:00, dtype: float64\n"
          ]
        }
      ]
    },
    {
      "cell_type": "markdown",
      "metadata": {
        "deletable": false,
        "editable": false,
        "nbgrader": {
          "cell_type": "markdown",
          "checksum": "4eb92d50d4739244992284560a3904e5",
          "grade": false,
          "grade_id": "cell-c41aef2181959a13",
          "locked": true,
          "schema_version": 3,
          "solution": false,
          "task": false
        },
        "id": "BHdlfcSyjjIy"
      },
      "source": [
        "### Task 6: Save the parsed data to different formats\n",
        "\n",
        "Save the parsed dataframe, DF, in different formats:\n",
        " - CSV, use function `.to_csv()`, read documentation inline or from [net](), use filename `cases.csv`\n",
        " - HDF5, use function `.to_hdf()`, read documentation inline or from [net](https://pandas.pydata.org/pandas-docs/stable/reference/api/pandas.DataFrame.to_hdf.html), use filename `cases.hdf`, and key='data'\n",
        " - parquet, use function `.to_parquet()`, read documentation inline or from [net](https://pandas.pydata.org/pandas-docs/stable/reference/api/pandas.DataFrame.to_parquet.html), use filename `cases.parquet`\n",
        " - feather, use function `.to_feather()`, read documentation inline or from [net](https://pandas.pydata.org/pandas-docs/stable/reference/api/pandas.DataFrame.to_feather.html), use filename `cases.feather`\n",
        " \n",
        " Unfortunately feather or parquet do not support datetime objects as index. To overcome this issue, a new index consisting of only integers is created, and the dat is moved to the separate column. This can be accomplished by simply calling the `.reset_index()` from the dataframe.\n",
        " \n",
        " In addition, Feather and Parquet requires valid column names, so they needs to be defined too, which is a good idea anyway. The column names can be set using read/write property `.columns`:\n",
        " \n",
        " Both requirements can be set as follows:\n",
        " \n",
        " `\n",
        " DF_fixed = DF.reset_index()\n",
        " DF_fixed.columns=('Date', 'Cases')\n",
        " `\n",
        " \n",
        "**See the code in the validation section for reading the files back.**\n",
        "\n",
        "**Note** If you do this at home, install `pyarrow` to support parquet. "
      ]
    },
    {
      "cell_type": "code",
      "metadata": {
        "ExecuteTime": {
          "end_time": "2021-10-12T19:03:58.771638Z",
          "start_time": "2021-10-12T19:03:58.655787Z"
        },
        "deletable": false,
        "nbgrader": {
          "cell_type": "code",
          "checksum": "4cdbbb9cb6ad74664feead24958c019b",
          "grade": false,
          "grade_id": "cell-b27e4684e9b154f6",
          "locked": false,
          "schema_version": 3,
          "solution": true,
          "task": false
        },
        "id": "CbMRtWYljjI1"
      },
      "source": [
        "# YOUR CODE HERE\n",
        "DF.to_csv('/content/cases.csv')\n",
        "DF.to_hdf('/content/cases.hdf', key='data')\n",
        "DF2=DF.reset_index()\n",
        "DF2.columns=('Date', 'Cases')\n",
        "DF2.to_parquet('/content/cases.parquet',index=None)\n",
        "DF2=DF.reset_index()\n",
        "DF2.to_feather('/content/cases.feather')"
      ],
      "execution_count": 22,
      "outputs": []
    },
    {
      "cell_type": "code",
      "metadata": {
        "ExecuteTime": {
          "end_time": "2021-10-12T19:06:11.090114Z",
          "start_time": "2021-10-12T19:06:10.987787Z"
        },
        "deletable": false,
        "editable": false,
        "nbgrader": {
          "cell_type": "code",
          "checksum": "c7f5a61e699be6390c9593d545488a4f",
          "grade": true,
          "grade_id": "cell-91e78d230d52fb4c",
          "locked": true,
          "points": 1,
          "schema_version": 3,
          "solution": false,
          "task": false
        },
        "colab": {
          "base_uri": "https://localhost:8080/"
        },
        "id": "Bu3doFwcjjI7",
        "outputId": "4145749f-ea09-4cc0-d56f-cb51e2e7e98a"
      },
      "source": [
        "data_csv=pd.read_csv('/content/cases.csv')\n",
        "data_hdf=pd.read_hdf('/content/cases.hdf', key='data')\n",
        "data_par=pd.read_parquet('/content/cases.parquet')\n",
        "data_fea=pd.read_feather('/content/cases.feather')\n",
        "\n",
        "print(data_hdf.iloc[1,0])\n",
        "\n",
        "assert((data_csv.shape==(494,2)) or (data_csv.shape==(494,3)))\n",
        "assert((data_hdf.shape==(494,1)) or (data_hdf.shape==(494,2)))\n",
        "assert(data_par.shape==(494,2))\n",
        "assert(data_fea.shape==(494,2))\n",
        "\n",
        "# Check the types of the datetime column values\n",
        "assert((type(data_csv.iloc[1,0])==str) or (type(data_csv.iloc[1,1])==str))\n",
        "assert((type(data_hdf.index[0])==pd.Timestamp) or (type(data_hdf.iloc[1,0])==pd.Timestamp))\n",
        "assert(type(data_par.iloc[1,0])==pd.Timestamp)\n",
        "assert(type(data_fea.iloc[1,0])==pd.Timestamp)"
      ],
      "execution_count": 23,
      "outputs": [
        {
          "output_type": "stream",
          "name": "stdout",
          "text": [
            "0\n"
          ]
        }
      ]
    },
    {
      "cell_type": "markdown",
      "metadata": {
        "deletable": false,
        "editable": false,
        "nbgrader": {
          "cell_type": "markdown",
          "checksum": "75aefc37c6dca9e57f3690f29e6cf7fa",
          "grade": false,
          "grade_id": "cell-140553854483d1cf",
          "locked": true,
          "schema_version": 3,
          "solution": false,
          "task": false
        },
        "id": "gpTtMZ4djjI9"
      },
      "source": [
        "Note that the binary data formats retain the timestamps objects as timestamps, whereas after reading CSV, the timestamps needs to be parsed again to timestamps.\n",
        "\n",
        "To help deciding which format to use in your own projects, take a look at the \n",
        "[comparison of different file formats](https://towardsdatascience.com/the-best-format-to-save-pandas-data-414dca023e0d). The optimal file format depends also on the application."
      ]
    }
  ]
}