{
  "nbformat": 4,
  "nbformat_minor": 0,
  "metadata": {
    "kernelspec": {
      "display_name": "Python 3 (ipykernel)",
      "language": "python",
      "name": "python3"
    },
    "language_info": {
      "codemirror_mode": {
        "name": "ipython",
        "version": 3
      },
      "file_extension": ".py",
      "mimetype": "text/x-python",
      "name": "python",
      "nbconvert_exporter": "python",
      "pygments_lexer": "ipython3",
      "version": "3.9.2"
    },
    "toc": {
      "base_numbering": 1,
      "nav_menu": {},
      "number_sections": true,
      "sideBar": true,
      "skip_h1_title": false,
      "title_cell": "Table of Contents",
      "title_sidebar": "Contents",
      "toc_cell": false,
      "toc_position": {},
      "toc_section_display": true,
      "toc_window_display": false
    },
    "colab": {
      "name": "Markku_Pulli_Exercise2.ipynb",
      "provenance": [],
      "include_colab_link": true
    },
    "widgets": {
      "application/vnd.jupyter.widget-state+json": {
        "912552f4c21f4ae7883b2969c898997c": {
          "model_module": "@jupyter-widgets/controls",
          "model_name": "RadioButtonsModel",
          "model_module_version": "1.5.0",
          "state": {
            "_options_labels": [
              "No selection",
              "There are no missing values",
              "Province/State",
              "Country/Region",
              "Lat",
              "Lon",
              "1/22/20",
              "1/23/20"
            ],
            "_view_name": "RadioButtonsView",
            "style": "IPY_MODEL_82b74f6c2b8f4163abd9e1aa3c20d943",
            "_dom_classes": [],
            "description": "Select feature:",
            "_model_name": "RadioButtonsModel",
            "index": 2,
            "_view_module": "@jupyter-widgets/controls",
            "_model_module_version": "1.5.0",
            "_view_count": null,
            "disabled": false,
            "_view_module_version": "1.5.0",
            "description_tooltip": null,
            "_model_module": "@jupyter-widgets/controls",
            "layout": "IPY_MODEL_bfece3dda9c145d7ad5abe2e2d891fb4"
          }
        },
        "82b74f6c2b8f4163abd9e1aa3c20d943": {
          "model_module": "@jupyter-widgets/controls",
          "model_name": "DescriptionStyleModel",
          "model_module_version": "1.5.0",
          "state": {
            "_view_name": "StyleView",
            "_model_name": "DescriptionStyleModel",
            "description_width": "",
            "_view_module": "@jupyter-widgets/base",
            "_model_module_version": "1.5.0",
            "_view_count": null,
            "_view_module_version": "1.2.0",
            "_model_module": "@jupyter-widgets/controls"
          }
        },
        "bfece3dda9c145d7ad5abe2e2d891fb4": {
          "model_module": "@jupyter-widgets/base",
          "model_name": "LayoutModel",
          "model_module_version": "1.2.0",
          "state": {
            "_view_name": "LayoutView",
            "grid_template_rows": null,
            "right": null,
            "justify_content": null,
            "_view_module": "@jupyter-widgets/base",
            "overflow": null,
            "_model_module_version": "1.2.0",
            "_view_count": null,
            "flex_flow": null,
            "width": null,
            "min_width": null,
            "border": null,
            "align_items": null,
            "bottom": null,
            "_model_module": "@jupyter-widgets/base",
            "top": null,
            "grid_column": null,
            "overflow_y": null,
            "overflow_x": null,
            "grid_auto_flow": null,
            "grid_area": null,
            "grid_template_columns": null,
            "flex": null,
            "_model_name": "LayoutModel",
            "justify_items": null,
            "grid_row": null,
            "max_height": null,
            "align_content": null,
            "visibility": null,
            "align_self": null,
            "height": null,
            "min_height": null,
            "padding": null,
            "grid_auto_rows": null,
            "grid_gap": null,
            "max_width": null,
            "order": null,
            "_view_module_version": "1.2.0",
            "grid_template_areas": null,
            "object_position": null,
            "object_fit": null,
            "grid_auto_columns": null,
            "margin": null,
            "display": null,
            "left": null
          }
        },
        "b7190dcee6204cccadfec93b793e885c": {
          "model_module": "@jupyter-widgets/controls",
          "model_name": "RadioButtonsModel",
          "model_module_version": "1.5.0",
          "state": {
            "_options_labels": [
              "No selection",
              "Drop columns",
              "Drop rows",
              "Imputation",
              "None"
            ],
            "_view_name": "RadioButtonsView",
            "style": "IPY_MODEL_da65c1406c964add8e0c415e8c5cd22e",
            "_dom_classes": [],
            "description": "Strategy:",
            "_model_name": "RadioButtonsModel",
            "index": 4,
            "_view_module": "@jupyter-widgets/controls",
            "_model_module_version": "1.5.0",
            "_view_count": null,
            "disabled": false,
            "_view_module_version": "1.5.0",
            "description_tooltip": null,
            "_model_module": "@jupyter-widgets/controls",
            "layout": "IPY_MODEL_ad83b8e0187a49f99883066c86d5ebb3"
          }
        },
        "da65c1406c964add8e0c415e8c5cd22e": {
          "model_module": "@jupyter-widgets/controls",
          "model_name": "DescriptionStyleModel",
          "model_module_version": "1.5.0",
          "state": {
            "_view_name": "StyleView",
            "_model_name": "DescriptionStyleModel",
            "description_width": "",
            "_view_module": "@jupyter-widgets/base",
            "_model_module_version": "1.5.0",
            "_view_count": null,
            "_view_module_version": "1.2.0",
            "_model_module": "@jupyter-widgets/controls"
          }
        },
        "ad83b8e0187a49f99883066c86d5ebb3": {
          "model_module": "@jupyter-widgets/base",
          "model_name": "LayoutModel",
          "model_module_version": "1.2.0",
          "state": {
            "_view_name": "LayoutView",
            "grid_template_rows": null,
            "right": null,
            "justify_content": null,
            "_view_module": "@jupyter-widgets/base",
            "overflow": null,
            "_model_module_version": "1.2.0",
            "_view_count": null,
            "flex_flow": null,
            "width": null,
            "min_width": null,
            "border": null,
            "align_items": null,
            "bottom": null,
            "_model_module": "@jupyter-widgets/base",
            "top": null,
            "grid_column": null,
            "overflow_y": null,
            "overflow_x": null,
            "grid_auto_flow": null,
            "grid_area": null,
            "grid_template_columns": null,
            "flex": null,
            "_model_name": "LayoutModel",
            "justify_items": null,
            "grid_row": null,
            "max_height": null,
            "align_content": null,
            "visibility": null,
            "align_self": null,
            "height": null,
            "min_height": null,
            "padding": null,
            "grid_auto_rows": null,
            "grid_gap": null,
            "max_width": null,
            "order": null,
            "_view_module_version": "1.2.0",
            "grid_template_areas": null,
            "object_position": null,
            "object_fit": null,
            "grid_auto_columns": null,
            "margin": null,
            "display": null,
            "left": null
          }
        }
      }
    }
  },
  "cells": [
    {
      "cell_type": "markdown",
      "metadata": {
        "id": "view-in-github",
        "colab_type": "text"
      },
      "source": [
        "<a href=\"https://colab.research.google.com/github/marpulli246/VaasaUniversity-AML/blob/main/Markku_Pulli_Exercise2.ipynb\" target=\"_parent\"><img src=\"https://colab.research.google.com/assets/colab-badge.svg\" alt=\"Open In Colab\"/></a>"
      ]
    },
    {
      "cell_type": "markdown",
      "metadata": {
        "id": "iXd6sE0vjjGm"
      },
      "source": [
        "# Applied Machine Learning (2021), exercises\n",
        "\n",
        "\n",
        "## General instructions for all exercises\n",
        "\n",
        "Before you turn this problem in, make sure everything runs as expected. First, **restart the kernel** (in the menubar, select Kernel$\\rightarrow$Restart) and then **run all cells** (in the menubar, select Cell$\\rightarrow$Run All).\n",
        "\n",
        "Follow the instructions and fill in your solution under the line marked by tag\n",
        "\n",
        "> YOUR CODE HERE\n",
        "\n",
        "Do not change other areas of the document, since it may disturb the autograding of your results!\n",
        "  \n",
        "Having written the answer, execute the code cell by and pressing `Shift-Enter` key combination. The code is run, and it may print some information under the code cell. The focus automatically moves to the next cell and you may \"execute\" that cell by pressing `Shift-Enter` again, until you have reached the code cell which tests your solution. Execute that and follow the feedback. Usually it either says that the solution seems acceptable, or reports some errors. You can go back to your solution, modify it and repeat everything until you are satisfied. Then proceed to the next task.\n",
        "   \n",
        "Repeat the process for all tasks.\n",
        "\n",
        "The notebook may also contain manually graded answers. Write your manualle graded answer under the line marked by tag:\n",
        "\n",
        "> YOUR ANSWER HERE\n",
        "\n",
        "Manually graded tasks may be text, pseudocode, or mathematical formulas. You can write formulas with $\\LaTeX$-syntax by enclosing the formula with dollar signs (`$`), for example `$f(x)=2 \\pi / \\alpha$`, will produce $f(x)=2 \\pi / \\alpha$\n",
        "\n",
        "When you have passed the tests in the notebook, and you are ready to submit your solutions, download the whole notebook, using menu `File -> Download as -> Notebook (.ipynb)`. Save the file in your hard disk, and submit it in [Moodle](https://moodle.uwasa.fi) under the corresponding excercise.\n",
        "\n",
        "Your solution should be an executable Python code. Use the code already existing as an example of Python programing and read more from the numerous Python programming material from the Internet if necessary. \n"
      ]
    },
    {
      "cell_type": "code",
      "metadata": {
        "id": "_uPeveVujjHG"
      },
      "source": [
        "NAME = \"Markku Pulli\"\n",
        "Student_number = \"\""
      ],
      "execution_count": null,
      "outputs": []
    },
    {
      "cell_type": "markdown",
      "metadata": {
        "id": "NQ0fwPYqjjHL"
      },
      "source": [
        "---"
      ]
    },
    {
      "cell_type": "markdown",
      "metadata": {
        "deletable": false,
        "editable": false,
        "nbgrader": {
          "cell_type": "markdown",
          "checksum": "ac0abf8467c557f3b5a0227eb266ce3a",
          "grade": false,
          "grade_id": "cell-0bd9bf369d15fc72",
          "locked": true,
          "schema_version": 3,
          "solution": false,
          "task": false
        },
        "id": "OVnT-Gp2jjHS"
      },
      "source": [
        "## Reading, and visualizing data with pandas\n",
        "\n",
        "This exercise contains the following tasks:\n",
        "\n",
        "1. Read the CSV data to Pandas dataframe\n",
        "1. Study the data statistics \n",
        "1. Slice and plot Finnish Covid cases\n",
        "1. Parse timestamps from strings\n",
        "1. Differentiate the data to get daily cases\n",
        "1. Store the data in four different formats"
      ]
    },
    {
      "cell_type": "code",
      "metadata": {
        "ExecuteTime": {
          "end_time": "2021-10-13T09:02:21.482466Z",
          "start_time": "2021-10-13T09:02:19.616315Z"
        },
        "deletable": false,
        "editable": false,
        "nbgrader": {
          "cell_type": "code",
          "checksum": "05b40b60b8c242d5cdd8adaa202726b9",
          "grade": false,
          "grade_id": "cell-4fd5279efd07c830",
          "locked": true,
          "schema_version": 3,
          "solution": false,
          "task": false
        },
        "id": "XdLGSf5fjjHU"
      },
      "source": [
        "#%load_ext autoreload\n",
        "#%autoreload 2\n",
        "import pandas as pd\n",
        "import matplotlib.pyplot as plt\n",
        "import numpy as np\n",
        "import ipywidgets as widgets\n",
        "import Ex2code\n",
        "\n",
        "import seaborn as sns\n",
        "# This makes the plots to have white background and grids by default\n",
        "#plt.style.use('seaborn-whitegrid')\n",
        "sns.set()\n"
      ],
      "execution_count": 1,
      "outputs": []
    },
    {
      "cell_type": "markdown",
      "metadata": {
        "deletable": false,
        "editable": false,
        "nbgrader": {
          "cell_type": "markdown",
          "checksum": "58b85e11489f5ebeafa128bdcb10c58f",
          "grade": false,
          "grade_id": "cell-13bde4d9e4eb3309",
          "locked": true,
          "schema_version": 3,
          "solution": false,
          "task": false
        },
        "id": "CPmoj618jjHX"
      },
      "source": [
        "### Task 1: Read and examine data\n",
        "#### a) Read the CSV data to Pandas dataframe\n",
        "\n",
        "Read the data file `time_series_covid_19_confirmed.csv` to a pandas dataframe called `D`, and display the head and tail of the dataframe.\n",
        "\n",
        "The data is taken from [Kaggle](https://www.kaggle.com/sudalairajkumar/novel-corona-virus-2019-dataset?rvi=1)."
      ]
    },
    {
      "cell_type": "code",
      "metadata": {
        "ExecuteTime": {
          "end_time": "2021-10-12T18:22:38.149311Z",
          "start_time": "2021-10-12T18:22:37.983416Z"
        },
        "deletable": false,
        "nbgrader": {
          "cell_type": "code",
          "checksum": "7a65685ae10a6af139e7f3853fdfbbbd",
          "grade": false,
          "grade_id": "cell-f847b9b64c459963",
          "locked": false,
          "schema_version": 3,
          "solution": true,
          "task": false
        },
        "colab": {
          "base_uri": "https://localhost:8080/"
        },
        "id": "7RqlRC2pjjHa",
        "outputId": "98c6afb0-f874-4efa-c27b-ca65d17fb0cb"
      },
      "source": [
        "# YOUR CODE HERE\n",
        "D = pd.read_csv('/content/time_series_covid_19_confirmed.csv')\n",
        "D.shape"
      ],
      "execution_count": 2,
      "outputs": [
        {
          "output_type": "execute_result",
          "data": {
            "text/plain": [
              "(276, 498)"
            ]
          },
          "metadata": {},
          "execution_count": 2
        }
      ]
    },
    {
      "cell_type": "code",
      "metadata": {
        "ExecuteTime": {
          "end_time": "2021-10-12T18:40:46.472712Z",
          "start_time": "2021-10-12T18:40:46.428948Z"
        },
        "deletable": false,
        "editable": false,
        "nbgrader": {
          "cell_type": "code",
          "checksum": "2346c52c427e29332240638a7a78db98",
          "grade": true,
          "grade_id": "cell-4921356b2337c8ff",
          "locked": true,
          "points": 1,
          "schema_version": 3,
          "solution": false,
          "task": false
        },
        "id": "yM3chAfFjjHc"
      },
      "source": [
        "# Some testing\n",
        "assert(D.shape == (276,498)), \"The shape of the data does not seem to be correct\"\n"
      ],
      "execution_count": 3,
      "outputs": []
    },
    {
      "cell_type": "markdown",
      "metadata": {
        "deletable": false,
        "editable": false,
        "nbgrader": {
          "cell_type": "markdown",
          "checksum": "e05cb09c30e9a53a0f28c3b969a9cba6",
          "grade": false,
          "grade_id": "cell-0e40a44f622ce9c6",
          "locked": true,
          "schema_version": 3,
          "solution": false,
          "task": false
        },
        "id": "A2m-hOscjjHj"
      },
      "source": [
        "#### Task 1 b)  Study the statistics of the data\n",
        "\n",
        "Study the statistics of the corona data, using `.head()` and `.describe()` functions. \n",
        "Do you find missing values in the data? If you do, which column contains most of the missing values"
      ]
    },
    {
      "cell_type": "code",
      "metadata": {
        "colab": {
          "base_uri": "https://localhost:8080/"
        },
        "id": "VCjEzMOio5v9",
        "outputId": "371068b7-9d7d-4c4c-d43d-d7b91f7f6468"
      },
      "source": [
        "D.head()\n",
        "missing = D.columns[D.isnull().any()]\n",
        "print(missing)"
      ],
      "execution_count": 4,
      "outputs": [
        {
          "output_type": "stream",
          "name": "stdout",
          "text": [
            "Index(['Province/State', 'Lat', 'Long'], dtype='object')\n"
          ]
        }
      ]
    },
    {
      "cell_type": "code",
      "metadata": {
        "colab": {
          "base_uri": "https://localhost:8080/"
        },
        "id": "5v_suZldC7CY",
        "outputId": "7af8c77f-33c2-499f-8ff5-052968744043"
      },
      "source": [
        "print(D['Province/State'].isna().sum())\n",
        "print(D['Lat'].isna().sum())\n",
        "print(D['Long'].isna().sum())"
      ],
      "execution_count": 5,
      "outputs": [
        {
          "output_type": "stream",
          "name": "stdout",
          "text": [
            "190\n",
            "2\n",
            "2\n"
          ]
        }
      ]
    },
    {
      "cell_type": "code",
      "metadata": {
        "ExecuteTime": {
          "end_time": "2021-10-13T09:02:24.206834Z",
          "start_time": "2021-10-13T09:02:24.184801Z"
        },
        "code_folding": [],
        "deletable": false,
        "editable": false,
        "nbgrader": {
          "cell_type": "code",
          "checksum": "49a35b67f7371d09f3b3df70f4844a72",
          "grade": false,
          "grade_id": "cell-df028996c0ec05b4",
          "locked": true,
          "schema_version": 3,
          "solution": false,
          "task": false
        },
        "colab": {
          "base_uri": "https://localhost:8080/",
          "height": 228,
          "referenced_widgets": [
            "912552f4c21f4ae7883b2969c898997c",
            "82b74f6c2b8f4163abd9e1aa3c20d943",
            "bfece3dda9c145d7ad5abe2e2d891fb4"
          ]
        },
        "id": "8cEPQG8ajjHn",
        "outputId": "c418e073-3c6f-4577-998a-211c542463e2"
      },
      "source": [
        "ans1b=Ex2code.task1b()\n",
        "display(ans1b)"
      ],
      "execution_count": 6,
      "outputs": [
        {
          "output_type": "stream",
          "name": "stdout",
          "text": [
            "Which of the features contains most missing values\n"
          ]
        },
        {
          "output_type": "display_data",
          "data": {
            "application/vnd.jupyter.widget-view+json": {
              "model_id": "912552f4c21f4ae7883b2969c898997c",
              "version_minor": 0,
              "version_major": 2
            },
            "text/plain": [
              "RadioButtons(description='Select feature:', options=(('No selection', -1), ('There are no missing values', 0),…"
            ]
          },
          "metadata": {}
        }
      ]
    },
    {
      "cell_type": "code",
      "metadata": {
        "ExecuteTime": {
          "end_time": "2021-10-13T09:20:44.749127Z",
          "start_time": "2021-10-13T09:20:44.742429Z"
        },
        "deletable": false,
        "editable": false,
        "nbgrader": {
          "cell_type": "code",
          "checksum": "ea5bb860d6aae024a857e32f08ea87a3",
          "grade": true,
          "grade_id": "cell-12bc6b10d571e6cc",
          "locked": true,
          "points": 1,
          "schema_version": 3,
          "solution": false,
          "task": false
        },
        "id": "c9RSXyu9jjHt"
      },
      "source": [
        "assert(ans1b.value>=0), \"Please make a selection from the previous menu\"\n"
      ],
      "execution_count": 7,
      "outputs": []
    },
    {
      "cell_type": "markdown",
      "metadata": {
        "id": "an9z4l4qjjH1"
      },
      "source": [
        "#### Task 1 c) Missing values\n",
        "What would be the best strategy to mitigate missing values if we are interested only in Finnish situation? Drop rows with missing values, Drop columns with missing values or impute missing values with empty strings?\n"
      ]
    },
    {
      "cell_type": "code",
      "metadata": {
        "ExecuteTime": {
          "end_time": "2021-10-12T19:12:18.116561Z",
          "start_time": "2021-10-12T19:12:17.994261Z"
        },
        "deletable": false,
        "nbgrader": {
          "cell_type": "code",
          "checksum": "0f71ab8794b779c15ccecd0fa39eb27f",
          "grade": false,
          "grade_id": "cell-1f28c244a918f971",
          "locked": false,
          "schema_version": 3,
          "solution": true,
          "task": false
        },
        "colab": {
          "base_uri": "https://localhost:8080/",
          "height": 149
        },
        "id": "iWowS54NjjH3",
        "outputId": "4a6725a8-87ff-40a6-aa99-e4392092809f"
      },
      "source": [
        "# Write your code for studying the data here and then select correct answer from the \n",
        "# list in the next cell\n",
        "\n",
        "# YOUR CODE HERE\n",
        "FinDF = D[D['Country/Region'] == 'Finland'].iloc[:, 4:]\n",
        "missingF = FinDF.columns[FinDF.isnull().any()]\n",
        "print(missingF)\n",
        "# Finland is not missing any data. No need for any data imputation action.\n",
        "\n",
        "FinDF.head()"
      ],
      "execution_count": 8,
      "outputs": [
        {
          "output_type": "stream",
          "name": "stdout",
          "text": [
            "Index([], dtype='object')\n"
          ]
        },
        {
          "output_type": "execute_result",
          "data": {
            "text/html": [
              "<div>\n",
              "<style scoped>\n",
              "    .dataframe tbody tr th:only-of-type {\n",
              "        vertical-align: middle;\n",
              "    }\n",
              "\n",
              "    .dataframe tbody tr th {\n",
              "        vertical-align: top;\n",
              "    }\n",
              "\n",
              "    .dataframe thead th {\n",
              "        text-align: right;\n",
              "    }\n",
              "</style>\n",
              "<table border=\"1\" class=\"dataframe\">\n",
              "  <thead>\n",
              "    <tr style=\"text-align: right;\">\n",
              "      <th></th>\n",
              "      <th>1/22/20</th>\n",
              "      <th>1/23/20</th>\n",
              "      <th>1/24/20</th>\n",
              "      <th>1/25/20</th>\n",
              "      <th>1/26/20</th>\n",
              "      <th>1/27/20</th>\n",
              "      <th>1/28/20</th>\n",
              "      <th>1/29/20</th>\n",
              "      <th>1/30/20</th>\n",
              "      <th>1/31/20</th>\n",
              "      <th>2/1/20</th>\n",
              "      <th>2/2/20</th>\n",
              "      <th>2/3/20</th>\n",
              "      <th>2/4/20</th>\n",
              "      <th>2/5/20</th>\n",
              "      <th>2/6/20</th>\n",
              "      <th>2/7/20</th>\n",
              "      <th>2/8/20</th>\n",
              "      <th>2/9/20</th>\n",
              "      <th>2/10/20</th>\n",
              "      <th>2/11/20</th>\n",
              "      <th>2/12/20</th>\n",
              "      <th>2/13/20</th>\n",
              "      <th>2/14/20</th>\n",
              "      <th>2/15/20</th>\n",
              "      <th>2/16/20</th>\n",
              "      <th>2/17/20</th>\n",
              "      <th>2/18/20</th>\n",
              "      <th>2/19/20</th>\n",
              "      <th>2/20/20</th>\n",
              "      <th>2/21/20</th>\n",
              "      <th>2/22/20</th>\n",
              "      <th>2/23/20</th>\n",
              "      <th>2/24/20</th>\n",
              "      <th>2/25/20</th>\n",
              "      <th>2/26/20</th>\n",
              "      <th>2/27/20</th>\n",
              "      <th>2/28/20</th>\n",
              "      <th>2/29/20</th>\n",
              "      <th>3/1/20</th>\n",
              "      <th>...</th>\n",
              "      <th>4/20/21</th>\n",
              "      <th>4/21/21</th>\n",
              "      <th>4/22/21</th>\n",
              "      <th>4/23/21</th>\n",
              "      <th>4/24/21</th>\n",
              "      <th>4/25/21</th>\n",
              "      <th>4/26/21</th>\n",
              "      <th>4/27/21</th>\n",
              "      <th>4/28/21</th>\n",
              "      <th>4/29/21</th>\n",
              "      <th>4/30/21</th>\n",
              "      <th>5/1/21</th>\n",
              "      <th>5/2/21</th>\n",
              "      <th>5/3/21</th>\n",
              "      <th>5/4/21</th>\n",
              "      <th>5/5/21</th>\n",
              "      <th>5/6/21</th>\n",
              "      <th>5/7/21</th>\n",
              "      <th>5/8/21</th>\n",
              "      <th>5/9/21</th>\n",
              "      <th>5/10/21</th>\n",
              "      <th>5/11/21</th>\n",
              "      <th>5/12/21</th>\n",
              "      <th>5/13/21</th>\n",
              "      <th>5/14/21</th>\n",
              "      <th>5/15/21</th>\n",
              "      <th>5/16/21</th>\n",
              "      <th>5/17/21</th>\n",
              "      <th>5/18/21</th>\n",
              "      <th>5/19/21</th>\n",
              "      <th>5/20/21</th>\n",
              "      <th>5/21/21</th>\n",
              "      <th>5/22/21</th>\n",
              "      <th>5/23/21</th>\n",
              "      <th>5/24/21</th>\n",
              "      <th>5/25/21</th>\n",
              "      <th>5/26/21</th>\n",
              "      <th>5/27/21</th>\n",
              "      <th>5/28/21</th>\n",
              "      <th>5/29/21</th>\n",
              "    </tr>\n",
              "  </thead>\n",
              "  <tbody>\n",
              "    <tr>\n",
              "      <th>118</th>\n",
              "      <td>0</td>\n",
              "      <td>0</td>\n",
              "      <td>0</td>\n",
              "      <td>0</td>\n",
              "      <td>0</td>\n",
              "      <td>0</td>\n",
              "      <td>0</td>\n",
              "      <td>1</td>\n",
              "      <td>1</td>\n",
              "      <td>1</td>\n",
              "      <td>1</td>\n",
              "      <td>1</td>\n",
              "      <td>1</td>\n",
              "      <td>1</td>\n",
              "      <td>1</td>\n",
              "      <td>1</td>\n",
              "      <td>1</td>\n",
              "      <td>1</td>\n",
              "      <td>1</td>\n",
              "      <td>1</td>\n",
              "      <td>1</td>\n",
              "      <td>1</td>\n",
              "      <td>1</td>\n",
              "      <td>1</td>\n",
              "      <td>1</td>\n",
              "      <td>1</td>\n",
              "      <td>1</td>\n",
              "      <td>1</td>\n",
              "      <td>1</td>\n",
              "      <td>1</td>\n",
              "      <td>1</td>\n",
              "      <td>1</td>\n",
              "      <td>1</td>\n",
              "      <td>1</td>\n",
              "      <td>1</td>\n",
              "      <td>2</td>\n",
              "      <td>2</td>\n",
              "      <td>2</td>\n",
              "      <td>3</td>\n",
              "      <td>6</td>\n",
              "      <td>...</td>\n",
              "      <td>84501</td>\n",
              "      <td>84797</td>\n",
              "      <td>85077</td>\n",
              "      <td>85344</td>\n",
              "      <td>85607</td>\n",
              "      <td>85804</td>\n",
              "      <td>85937</td>\n",
              "      <td>86161</td>\n",
              "      <td>86405</td>\n",
              "      <td>86613</td>\n",
              "      <td>86808</td>\n",
              "      <td>87096</td>\n",
              "      <td>87228</td>\n",
              "      <td>87345</td>\n",
              "      <td>87529</td>\n",
              "      <td>87798</td>\n",
              "      <td>88078</td>\n",
              "      <td>88332</td>\n",
              "      <td>88561</td>\n",
              "      <td>88723</td>\n",
              "      <td>88866</td>\n",
              "      <td>88990</td>\n",
              "      <td>89270</td>\n",
              "      <td>89532</td>\n",
              "      <td>89686</td>\n",
              "      <td>89878</td>\n",
              "      <td>90105</td>\n",
              "      <td>90249</td>\n",
              "      <td>90398</td>\n",
              "      <td>90687</td>\n",
              "      <td>90946</td>\n",
              "      <td>91157</td>\n",
              "      <td>91405</td>\n",
              "      <td>91526</td>\n",
              "      <td>91619</td>\n",
              "      <td>91744</td>\n",
              "      <td>91964</td>\n",
              "      <td>92062</td>\n",
              "      <td>92244</td>\n",
              "      <td>92244</td>\n",
              "    </tr>\n",
              "  </tbody>\n",
              "</table>\n",
              "<p>1 rows × 494 columns</p>\n",
              "</div>"
            ],
            "text/plain": [
              "     1/22/20  1/23/20  1/24/20  1/25/20  ...  5/26/21  5/27/21  5/28/21  5/29/21\n",
              "118        0        0        0        0  ...    91964    92062    92244    92244\n",
              "\n",
              "[1 rows x 494 columns]"
            ]
          },
          "metadata": {},
          "execution_count": 8
        }
      ]
    },
    {
      "cell_type": "code",
      "metadata": {
        "ExecuteTime": {
          "end_time": "2021-10-13T09:02:43.687259Z",
          "start_time": "2021-10-13T09:02:43.662340Z"
        },
        "deletable": false,
        "editable": false,
        "nbgrader": {
          "cell_type": "code",
          "checksum": "920c719b63c7f85757d3e4f953b5a81e",
          "grade": false,
          "grade_id": "cell-78bf7bbbc09a1b5d",
          "locked": true,
          "schema_version": 3,
          "solution": false,
          "task": false
        },
        "colab": {
          "base_uri": "https://localhost:8080/",
          "height": 145,
          "referenced_widgets": [
            "b7190dcee6204cccadfec93b793e885c",
            "da65c1406c964add8e0c415e8c5cd22e",
            "ad83b8e0187a49f99883066c86d5ebb3"
          ]
        },
        "id": "RZLWRz2ajjH5",
        "outputId": "2402bce4-1607-410a-cecb-6a7a4e2de92c"
      },
      "source": [
        "ans1c=Ex2code.task1c()\n",
        "display(ans1c)"
      ],
      "execution_count": 9,
      "outputs": [
        {
          "output_type": "display_data",
          "data": {
            "application/vnd.jupyter.widget-view+json": {
              "model_id": "b7190dcee6204cccadfec93b793e885c",
              "version_minor": 0,
              "version_major": 2
            },
            "text/plain": [
              "RadioButtons(description='Strategy:', options=('No selection', 'Drop columns', 'Drop rows', 'Imputation', 'Non…"
            ]
          },
          "metadata": {}
        }
      ]
    },
    {
      "cell_type": "code",
      "metadata": {
        "ExecuteTime": {
          "end_time": "2021-10-12T19:13:05.410092Z",
          "start_time": "2021-10-12T19:13:05.388625Z"
        },
        "deletable": false,
        "editable": false,
        "nbgrader": {
          "cell_type": "code",
          "checksum": "c46ae396569af9f0a632bcddecba48c1",
          "grade": true,
          "grade_id": "cell-4957dc3fe0a5d4a7",
          "locked": true,
          "points": 1,
          "schema_version": 3,
          "solution": false,
          "task": false
        },
        "colab": {
          "base_uri": "https://localhost:8080/"
        },
        "id": "U5lLPlgVjjH7",
        "outputId": "8ef804e4-ff37-4df0-ee1e-5b70bfcc7fbd"
      },
      "source": [
        "print(ans1c.value)\n",
        "assert(ans1c.value!=\"No selection\"), \"Please make a selection from the previous menu\"\n"
      ],
      "execution_count": 10,
      "outputs": [
        {
          "output_type": "stream",
          "name": "stdout",
          "text": [
            "None\n"
          ]
        }
      ]
    },
    {
      "cell_type": "markdown",
      "metadata": {
        "deletable": false,
        "editable": false,
        "nbgrader": {
          "cell_type": "markdown",
          "checksum": "5f4df997230e81cf717b7cde17427040",
          "grade": false,
          "grade_id": "cell-50d2869d3a3a4b41",
          "locked": true,
          "schema_version": 3,
          "solution": false,
          "task": false
        },
        "id": "8HrHKJA1jjH9"
      },
      "source": [
        "### Task 2: Slice and plot Finnish Covid cases\n",
        "\n",
        "Select the data to represent confirmed Covid cases in Finland, by selecting the right row, and only those columns, which shows the numbers of cases (all columns except first four). Transpose the selected slice of the Dataframe, using transpose operator `.T`. This makes rows to become columns and columns to become rows, just like the transpose of a Matrix in mathematics. You can chain the `.loc`, `.iloc` and `.T` operators in one line to accomplish your task.\n",
        "\n",
        "Save this resulting one-column dataframe by name `DF` in the workspace, and plot it using `.plot()` -function.\n"
      ]
    },
    {
      "cell_type": "code",
      "metadata": {
        "ExecuteTime": {
          "end_time": "2021-10-12T18:55:16.665042Z",
          "start_time": "2021-10-12T18:55:16.438338Z"
        },
        "deletable": false,
        "nbgrader": {
          "cell_type": "code",
          "checksum": "e0ba5e58891dfbe38f40efafc5389ece",
          "grade": false,
          "grade_id": "cell-384aa526eb314739",
          "locked": false,
          "schema_version": 3,
          "solution": true,
          "task": false
        },
        "colab": {
          "base_uri": "https://localhost:8080/"
        },
        "id": "o7c3WvzxjjH_",
        "outputId": "646ef6c8-6f70-470b-c0c3-108ebbc3d899"
      },
      "source": [
        "# YOUR CODE HERE\n",
        "option = ['Finland']\n",
        "#DF = D[D['Country/Region'].isin(option)]\n",
        "#DF = D[D['Country/Region'] == 'Finland'].iloc[[0],[4,-1]]\n",
        "DF = D[D['Country/Region'] == 'Finland'].iloc[:, 4:].T\n",
        "DF.set_axis(['Cases'], axis=1, inplace=True)\n",
        "DF.head()\n",
        "missing = DF.columns[DF.isnull().any()]\n",
        "print('Missing value',missing)\n",
        "#DF.plot()\n"
      ],
      "execution_count": 11,
      "outputs": [
        {
          "output_type": "stream",
          "name": "stdout",
          "text": [
            "Missing value Index([], dtype='object')\n"
          ]
        }
      ]
    },
    {
      "cell_type": "code",
      "metadata": {
        "ExecuteTime": {
          "end_time": "2021-10-12T18:43:17.107645Z",
          "start_time": "2021-10-12T18:43:17.056007Z"
        },
        "deletable": false,
        "editable": false,
        "nbgrader": {
          "cell_type": "code",
          "checksum": "0a0ee0aa283e5af035c57b3f194c56dc",
          "grade": true,
          "grade_id": "cell-dd2991cc709c91d5",
          "locked": true,
          "points": 2,
          "schema_version": 3,
          "solution": false,
          "task": false
        },
        "id": "YnD43WELjjIE"
      },
      "source": [
        "assert(DF.shape==(494,1))"
      ],
      "execution_count": 12,
      "outputs": []
    },
    {
      "cell_type": "markdown",
      "metadata": {
        "deletable": false,
        "editable": false,
        "nbgrader": {
          "cell_type": "markdown",
          "checksum": "edf3889aa8e38863bf5c24eeb7e8bbab",
          "grade": false,
          "grade_id": "cell-3891aad33a622798",
          "locked": true,
          "schema_version": 3,
          "solution": false,
          "task": false
        },
        "id": "Tl2B0tiYjjII"
      },
      "source": [
        "### Task 3: Parse timestamps to datetime objects\n",
        "The data looks familiar and would be usefull already for many purposes, but it has still a problem. This is obviously a time series, but the computer does not yet understand what the values in time-axis are, and they are handled just strings without meaning. \n",
        "\n",
        "To let the computer understand them, they needs to be parsed to datetime objects. Any string can be parsed to datetime using string parser function, called `strptime()`. It uses a template for mathing a string to years (`%y`), months (`%m`) and days (`%d`). See more exact description from the [documentation](https://www.programiz.com/python-programming/datetime/strptime).\n",
        "\n",
        "The function for parsing the timestamp strings is provided below.\n"
      ]
    },
    {
      "cell_type": "code",
      "metadata": {
        "ExecuteTime": {
          "end_time": "2021-10-12T18:43:22.999518Z",
          "start_time": "2021-10-12T18:43:22.983659Z"
        },
        "deletable": false,
        "editable": false,
        "nbgrader": {
          "cell_type": "code",
          "checksum": "377c730894100cdbdd6ec061257c80a4",
          "grade": false,
          "grade_id": "cell-99dbc583693250d4",
          "locked": true,
          "schema_version": 3,
          "solution": false,
          "task": false
        },
        "colab": {
          "base_uri": "https://localhost:8080/"
        },
        "id": "g8hMmE0-jjIZ",
        "outputId": "98e18a90-43a1-4cca-ca0a-09ce5f25ae85"
      },
      "source": [
        "#task4\n",
        "indexes=DF.index\n",
        "\n",
        "from datetime import datetime\n",
        "\n",
        "# Parse a timestamp\n",
        "def parseTime(s):\n",
        "    return datetime.strptime(s, \"%m/%d/%y\")\n",
        "\n",
        "DF.index"
      ],
      "execution_count": 13,
      "outputs": [
        {
          "output_type": "execute_result",
          "data": {
            "text/plain": [
              "Index(['1/22/20', '1/23/20', '1/24/20', '1/25/20', '1/26/20', '1/27/20',\n",
              "       '1/28/20', '1/29/20', '1/30/20', '1/31/20',\n",
              "       ...\n",
              "       '5/20/21', '5/21/21', '5/22/21', '5/23/21', '5/24/21', '5/25/21',\n",
              "       '5/26/21', '5/27/21', '5/28/21', '5/29/21'],\n",
              "      dtype='object', length=494)"
            ]
          },
          "metadata": {},
          "execution_count": 13
        }
      ]
    },
    {
      "cell_type": "markdown",
      "metadata": {
        "deletable": false,
        "editable": false,
        "nbgrader": {
          "cell_type": "markdown",
          "checksum": "19298f18e6581e8a48c2c9c85a8be942",
          "grade": false,
          "grade_id": "cell-c05cbc4e0d3ffe40",
          "locked": true,
          "schema_version": 3,
          "solution": false,
          "task": false
        },
        "id": "EwrJ2HANjjIc"
      },
      "source": [
        "Replace the index of `DF` by parsing the list of values in it into list of datetime objects, and assign it to the new index. \n",
        "\n",
        "You can read the values of the current index, using a read/write property `.index` of the dataframe, and you can update the index by assigning a list of datetime objects into it. \n",
        "\n",
        "You can apply the previous `parseTime()`-function to all values in a list of date-strings by using a `map()` function in python as follows\n",
        "\n",
        " `map(parseTime, listOfStringValues)`\n",
        " \n",
        " See more from [documentation](https://www.programiz.com/python-programming/methods/built-in/map).\n",
        " \n",
        " Note that if you try to run it again, it will give you an error, since the index values are no longer strings, which could be parsed again.\n",
        " \n",
        " Now plot the data again, and you will notice that the computer now understands the time axis and can show it differently.\n",
        " \n",
        " Try to slice the data and only plot the values for september (`DF.loc['yyyy-mm']`). See how the time axis is scaled again."
      ]
    },
    {
      "cell_type": "code",
      "metadata": {
        "ExecuteTime": {
          "end_time": "2021-10-12T18:57:19.768823Z",
          "start_time": "2021-10-12T18:57:19.118376Z"
        },
        "deletable": false,
        "nbgrader": {
          "cell_type": "code",
          "checksum": "3232bd148b0659933f0a087d4ffbef88",
          "grade": false,
          "grade_id": "cell-04ebd028e3a77d06",
          "locked": false,
          "schema_version": 3,
          "solution": true,
          "task": false
        },
        "colab": {
          "base_uri": "https://localhost:8080/",
          "height": 516
        },
        "id": "dZsvFx7SjjIf",
        "outputId": "9fd3ba3b-3283-4c79-838a-4008a1d55426"
      },
      "source": [
        "# YOUR CODE HERE\n",
        "DF.index = map(parseTime,DF.index)\n",
        "DF.plot(figsize=(10,8))\n",
        "#DF.loc['2020-09']"
      ],
      "execution_count": 14,
      "outputs": [
        {
          "output_type": "execute_result",
          "data": {
            "text/plain": [
              "<matplotlib.axes._subplots.AxesSubplot at 0x7f399579b7d0>"
            ]
          },
          "metadata": {},
          "execution_count": 14
        },
        {
          "output_type": "display_data",
          "data": {
            "image/png": "[encoded data removed]",
            "text/plain": [
              "<Figure size 720x576 with 1 Axes>"
            ]
          },
          "metadata": {
            "needs_background": "light"
          }
        }
      ]
    },
    {
      "cell_type": "code",
      "metadata": {
        "ExecuteTime": {
          "end_time": "2021-10-12T18:57:47.319972Z",
          "start_time": "2021-10-12T18:57:47.303401Z"
        },
        "deletable": false,
        "editable": false,
        "nbgrader": {
          "cell_type": "code",
          "checksum": "62814c169a0bb0047af05c6d9084bdca",
          "grade": true,
          "grade_id": "cell-f5f06c8b398ff91e",
          "locked": true,
          "points": 2,
          "schema_version": 3,
          "solution": false,
          "task": false
        },
        "id": "42ue_ms1jjIh"
      },
      "source": [
        "#assert((DF.loc['2020-09-23']==5343).values[0])\n",
        "assert((DF.loc['2020-09-23']==9288).values[0])"
      ],
      "execution_count": 15,
      "outputs": []
    },
    {
      "cell_type": "markdown",
      "metadata": {
        "deletable": false,
        "editable": false,
        "nbgrader": {
          "cell_type": "markdown",
          "checksum": "acfad9e633121a188846efd84f166452",
          "grade": false,
          "grade_id": "cell-786420cd5eec7cd0",
          "locked": true,
          "schema_version": 3,
          "solution": false,
          "task": false
        },
        "id": "NVWo4-S0jjIq"
      },
      "source": [
        "### Task 5: Differentiate to get the daily cases\n",
        "\n",
        "Now calculate the daily cases, by calculating the difference of the cumulative number of confirmed cases, using the `.diff()` function of the dataframe as name `daily`, and plot it. \n",
        "\n",
        "If you have time, you can also smooth the daily graph by using a rolling average (`.rolling()`), and plot the smoothed curve in different plot or the same plot. See examples from:\n",
        "- Pandas [diff function](https://pandas.pydata.org/pandas-docs/stable/reference/api/pandas.DataFrame.diff.html)\n",
        "- Pandas [rolling function](https://pandas.pydata.org/pandas-docs/stable/reference/api/pandas.DataFrame.rolling.html)\n",
        "\n",
        "Tip: If you want to plot both graphs in one figure, let the first plot return an axis object `ax` and define the new plot to use that same axis, as follows:\n",
        "\n",
        "`\n",
        "ax = daily. ... .plot(...)\n",
        "daily. ... .plot(ax=ax)\n",
        "`"
      ]
    },
    {
      "cell_type": "code",
      "metadata": {
        "ExecuteTime": {
          "end_time": "2021-10-12T18:57:55.219358Z",
          "start_time": "2021-10-12T18:57:54.723087Z"
        },
        "deletable": false,
        "nbgrader": {
          "cell_type": "code",
          "checksum": "d2312370814571dd7575a08ba0db29ef",
          "grade": false,
          "grade_id": "cell-5eb1bffa3a0c4d15",
          "locked": false,
          "schema_version": 3,
          "solution": true,
          "task": false
        },
        "colab": {
          "base_uri": "https://localhost:8080/",
          "height": 560
        },
        "id": "IqBR2pgCjjIs",
        "outputId": "8b7379c2-ac1d-43ad-d183-9046ac8fbae1"
      },
      "source": [
        "# YOUR CODE HERE\n",
        "daily = DF.diff()\n",
        "daily.plot()\n",
        "daily2 = daily.rolling(7).sum()\n",
        "daily2.plot()\n"
      ],
      "execution_count": 16,
      "outputs": [
        {
          "output_type": "execute_result",
          "data": {
            "text/plain": [
              "<matplotlib.axes._subplots.AxesSubplot at 0x7f3994edb890>"
            ]
          },
          "metadata": {},
          "execution_count": 16
        },
        {
          "output_type": "display_data",
          "data": {
            "image/png": "[encoded data removed]",
            "text/plain": [
              "<Figure size 432x288 with 1 Axes>"
            ]
          },
          "metadata": {
            "needs_background": "light"
          }
        },
        {
          "output_type": "display_data",
          "data": {
            "image/png": "[encoded data removed]",
            "text/plain": [
              "<Figure size 432x288 with 1 Axes>"
            ]
          },
          "metadata": {
            "needs_background": "light"
          }
        }
      ]
    },
    {
      "cell_type": "code",
      "metadata": {
        "ExecuteTime": {
          "end_time": "2021-10-12T18:58:09.662966Z",
          "start_time": "2021-10-12T18:58:09.605270Z"
        },
        "deletable": false,
        "editable": false,
        "nbgrader": {
          "cell_type": "code",
          "checksum": "d2c5b4c23e57588e5cfe0280ea370e68",
          "grade": true,
          "grade_id": "cell-4212a0eb49229648",
          "locked": true,
          "points": 2,
          "schema_version": 3,
          "solution": false,
          "task": false
        },
        "colab": {
          "base_uri": "https://localhost:8080/"
        },
        "id": "F1I0CtTRjjIu",
        "outputId": "0acedf60-f605-41e8-f1f5-31feffc55979"
      },
      "source": [
        "assert(daily.shape==(494,1)), \"The shape of the differentiated data does not seem right\"\n",
        "print(daily.loc['2020-09-23'])\n",
        "#assert(daily.loc['2020-09-23'].values[0]==36)\n",
        "assert(daily.loc['2020-09-23'].values[0]==93)"
      ],
      "execution_count": 18,
      "outputs": [
        {
          "output_type": "stream",
          "name": "stdout",
          "text": [
            "Cases    93.0\n",
            "Name: 2020-09-23 00:00:00, dtype: float64\n"
          ]
        }
      ]
    },
    {
      "cell_type": "markdown",
      "metadata": {
        "deletable": false,
        "editable": false,
        "nbgrader": {
          "cell_type": "markdown",
          "checksum": "4eb92d50d4739244992284560a3904e5",
          "grade": false,
          "grade_id": "cell-c41aef2181959a13",
          "locked": true,
          "schema_version": 3,
          "solution": false,
          "task": false
        },
        "id": "BHdlfcSyjjIy"
      },
      "source": [
        "### Task 6: Save the parsed data to different formats\n",
        "\n",
        "Save the parsed dataframe, DF, in different formats:\n",
        " - CSV, use function `.to_csv()`, read documentation inline or from [net](), use filename `cases.csv`\n",
        " - HDF5, use function `.to_hdf()`, read documentation inline or from [net](https://pandas.pydata.org/pandas-docs/stable/reference/api/pandas.DataFrame.to_hdf.html), use filename `cases.hdf`, and key='data'\n",
        " - parquet, use function `.to_parquet()`, read documentation inline or from [net](https://pandas.pydata.org/pandas-docs/stable/reference/api/pandas.DataFrame.to_parquet.html), use filename `cases.parquet`\n",
        " - feather, use function `.to_feather()`, read documentation inline or from [net](https://pandas.pydata.org/pandas-docs/stable/reference/api/pandas.DataFrame.to_feather.html), use filename `cases.feather`\n",
        " \n",
        " Unfortunately feather or parquet do not support datetime objects as index. To overcome this issue, a new index consisting of only integers is created, and the dat is moved to the separate column. This can be accomplished by simply calling the `.reset_index()` from the dataframe.\n",
        " \n",
        " In addition, Feather and Parquet requires valid column names, so they needs to be defined too, which is a good idea anyway. The column names can be set using read/write property `.columns`:\n",
        " \n",
        " Both requirements can be set as follows:\n",
        " \n",
        " `\n",
        " DF_fixed = DF.reset_index()\n",
        " DF_fixed.columns=('Date', 'Cases')\n",
        " `\n",
        " \n",
        "**See the code in the validation section for reading the files back.**\n",
        "\n",
        "**Note** If you do this at home, install `pyarrow` to support parquet. "
      ]
    },
    {
      "cell_type": "code",
      "metadata": {
        "ExecuteTime": {
          "end_time": "2021-10-12T19:03:58.771638Z",
          "start_time": "2021-10-12T19:03:58.655787Z"
        },
        "deletable": false,
        "nbgrader": {
          "cell_type": "code",
          "checksum": "4cdbbb9cb6ad74664feead24958c019b",
          "grade": false,
          "grade_id": "cell-b27e4684e9b154f6",
          "locked": false,
          "schema_version": 3,
          "solution": true,
          "task": false
        },
        "id": "CbMRtWYljjI1"
      },
      "source": [
        "# YOUR CODE HERE\n",
        "DF.to_csv('/content/cases.csv')\n",
        "DF.to_hdf('/content/cases.hdf', key='data')\n",
        "DF2=DF.reset_index()\n",
        "DF2.columns=('Date', 'Cases')\n",
        "DF2.to_parquet('/content/cases.parquet',index=None)\n",
        "DF2=DF.reset_index()\n",
        "DF2.to_feather('/content/cases.feather')"
      ],
      "execution_count": 19,
      "outputs": []
    },
    {
      "cell_type": "code",
      "metadata": {
        "ExecuteTime": {
          "end_time": "2021-10-12T19:06:11.090114Z",
          "start_time": "2021-10-12T19:06:10.987787Z"
        },
        "deletable": false,
        "editable": false,
        "nbgrader": {
          "cell_type": "code",
          "checksum": "c7f5a61e699be6390c9593d545488a4f",
          "grade": true,
          "grade_id": "cell-91e78d230d52fb4c",
          "locked": true,
          "points": 1,
          "schema_version": 3,
          "solution": false,
          "task": false
        },
        "colab": {
          "base_uri": "https://localhost:8080/"
        },
        "id": "Bu3doFwcjjI7",
        "outputId": "a4f1c8d6-c38a-484d-8d45-3d879faee40b"
      },
      "source": [
        "data_csv=pd.read_csv('/content/cases.csv')\n",
        "data_hdf=pd.read_hdf('/content/cases.hdf', key='data')\n",
        "data_par=pd.read_parquet('/content/cases.parquet')\n",
        "data_fea=pd.read_feather('/content/cases.feather')\n",
        "\n",
        "print(data_hdf.iloc[1,0])\n",
        "\n",
        "assert((data_csv.shape==(494,2)) or (data_csv.shape==(494,3)))\n",
        "assert((data_hdf.shape==(494,1)) or (data_hdf.shape==(494,2)))\n",
        "assert(data_par.shape==(494,2))\n",
        "assert(data_fea.shape==(494,2))\n",
        "\n",
        "# Check the types of the datetime column values\n",
        "assert((type(data_csv.iloc[1,0])==str) or (type(data_csv.iloc[1,1])==str))\n",
        "assert((type(data_hdf.index[0])==pd.Timestamp) or (type(data_hdf.iloc[1,0])==pd.Timestamp))\n",
        "assert(type(data_par.iloc[1,0])==pd.Timestamp)\n",
        "assert(type(data_fea.iloc[1,0])==pd.Timestamp)"
      ],
      "execution_count": 20,
      "outputs": [
        {
          "output_type": "stream",
          "name": "stdout",
          "text": [
            "0\n"
          ]
        }
      ]
    },
    {
      "cell_type": "markdown",
      "metadata": {
        "deletable": false,
        "editable": false,
        "nbgrader": {
          "cell_type": "markdown",
          "checksum": "75aefc37c6dca9e57f3690f29e6cf7fa",
          "grade": false,
          "grade_id": "cell-140553854483d1cf",
          "locked": true,
          "schema_version": 3,
          "solution": false,
          "task": false
        },
        "id": "gpTtMZ4djjI9"
      },
      "source": [
        "Note that the binary data formats retain the timestamps objects as timestamps, whereas after reading CSV, the timestamps needs to be parsed again to timestamps.\n",
        "\n",
        "To help deciding which format to use in your own projects, take a look at the \n",
        "[comparison of different file formats](https://towardsdatascience.com/the-best-format-to-save-pandas-data-414dca023e0d). The optimal file format depends also on the application."
      ]
    }
  ]
}