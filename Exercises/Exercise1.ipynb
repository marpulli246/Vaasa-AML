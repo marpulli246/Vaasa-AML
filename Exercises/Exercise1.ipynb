{
  "nbformat": 4,
  "nbformat_minor": 0,
  "metadata": {
    "kernelspec": {
      "display_name": "Python 3 (ipykernel)",
      "language": "python",
      "name": "python3"
    },
    "language_info": {
      "codemirror_mode": {
        "name": "ipython",
        "version": 3
      },
      "file_extension": ".py",
      "mimetype": "text/x-python",
      "name": "python",
      "nbconvert_exporter": "python",
      "pygments_lexer": "ipython3",
      "version": "3.9.2"
    },
    "toc": {
      "base_numbering": 1,
      "nav_menu": {},
      "number_sections": true,
      "sideBar": true,
      "skip_h1_title": false,
      "title_cell": "Table of Contents",
      "title_sidebar": "Contents",
      "toc_cell": false,
      "toc_position": {},
      "toc_section_display": true,
      "toc_window_display": false
    },
    "colab": {
      "name": "Exercise1.ipynb",
      "provenance": []
    }
  },
  "cells": [
    {
      "cell_type": "markdown",
      "metadata": {
        "id": "T-RDPrjOrnSX"
      },
      "source": [
        "# Applied Machine Learning (2021), exercises\n",
        "\n",
        "\n",
        "## General instructions for all exercises\n",
        "\n",
        "Before you turn this problem in, make sure everything runs as expected. First, **restart the kernel** (in the menubar, select Kernel$\\rightarrow$Restart) and then **run all cells** (in the menubar, select Cell$\\rightarrow$Run All).\n",
        "\n",
        "Follow the instructions and fill in your solution under the line marked by tag\n",
        "\n",
        "> YOUR CODE HERE\n",
        "\n",
        "Do not change other areas of the document, since it may disturb the autograding of your results!\n",
        "  \n",
        "Having written the answer, execute the code cell by and pressing `Shift-Enter` key combination. The code is run, and it may print some information under the code cell. The focus automatically moves to the next cell and you may \"execute\" that cell by pressing `Shift-Enter` again, until you have reached the code cell which tests your solution. Execute that and follow the feedback. Usually it either says that the solution seems acceptable, or reports some errors. You can go back to your solution, modify it and repeat everything until you are satisfied. Then proceed to the next task.\n",
        "   \n",
        "Repeat the process for all tasks.\n",
        "\n",
        "The notebook may also contain manually graded answers. Write your manualle graded answer under the line marked by tag:\n",
        "\n",
        "> YOUR ANSWER HERE\n",
        "\n",
        "Manually graded tasks may be text, pseudocode, or mathematical formulas. You can write formulas with $\\LaTeX$-syntax by enclosing the formula with dollar signs (`$`), for example `$f(x)=2 \\pi / \\alpha$`, will produce $f(x)=2 \\pi / \\alpha$\n",
        "\n",
        "When you have passed the tests in the notebook, and you are ready to submit your solutions, download the whole notebook, using menu `File -> Download as -> Notebook (.ipynb)`. Save the file in your hard disk, and submit it in [Moodle](https://moodle.uwasa.fi) under the corresponding excercise.\n",
        "\n",
        "Your solution should be an executable Python code. Use the code already existing as an example of Python programing and read more from the numerous Python programming material from the Internet if necessary. \n"
      ]
    },
    {
      "cell_type": "code",
      "metadata": {
        "id": "tHuL6SB0rnSj"
      },
      "source": [
        "NAME = \"Markku Pulli\"\n",
        "Student_number = \"121763\""
      ],
      "execution_count": null,
      "outputs": []
    },
    {
      "cell_type": "markdown",
      "metadata": {
        "id": "kvN6WAkKrnSm"
      },
      "source": [
        "---"
      ]
    },
    {
      "cell_type": "markdown",
      "metadata": {
        "id": "u2-qbJxMrnSo"
      },
      "source": [
        "# ICAT3190, Exercise 1"
      ]
    },
    {
      "cell_type": "markdown",
      "metadata": {
        "id": "Mb2YaSDirnSo"
      },
      "source": [
        "## Task 1\n",
        "\n",
        "Implement a function which calculates the Root Mean Square value of the input vector, according to the following formula:\n",
        "\n",
        "$$x_{rms}=\\sqrt{\\frac{1}{N}\\sum_{i=1}^{N} x_i^2} $$'\n",
        "\n",
        "Name your function as `myRMS`. It should take one input vector (x) as input and it returns single RMS value as output. Code your function in the cell below. When you think it is ready, execute it by pressing `Shift-Enter`. Then you can run the test cases in the next cell by hitting `Shift-Enter` again.\n",
        "\n",
        "- Remember to import necessary libraries, like numpy.\n",
        "- You may assume that the input vector is a numpy array, for example `x=np.array([1,2,3,4,5])`, or `x=np.linspace(0,1,500)`.\n",
        "- The power operator in python is `**`, while in many other programming languages it is `^`\n",
        "\n",
        "Read basics about python programming from [Dive into Python](https://diveinto.org/python3/table-of-contents.html) and use the documentation of [Numpy](https://numpy.org/).\n",
        "\n",
        "Check also the execution time of your program.\n",
        "\n",
        "**TIP**\n",
        "You may use the following template for your function:\n",
        "\n",
        "```\n",
        "def myRMS(x):\n",
        "    ...\n",
        "```"
      ]
    },
    {
      "cell_type": "code",
      "metadata": {
        "ExecuteTime": {
          "end_time": "2021-09-28T18:59:41.452019Z",
          "start_time": "2021-09-28T18:59:40.673940Z"
        },
        "deletable": false,
        "nbgrader": {
          "cell_type": "code",
          "checksum": "7e43e6638f0aeb2cb6bdf38f3180a6a2",
          "grade": false,
          "grade_id": "cell-a63f475c126e250e",
          "locked": false,
          "schema_version": 3,
          "solution": true,
          "task": false
        },
        "id": "vbbX7y69rnSt"
      },
      "source": [
        "%matplotlib inline\n",
        "\n",
        "from numpy import sqrt, square, mean\n",
        "import numpy as np\n",
        "\n",
        "# YOUR CODE HERE\n",
        "def myRMS(x):\n",
        "  rms=np.sqrt(np.mean(np.square(x)))\n",
        "  return(rms)"
      ],
      "execution_count": 1,
      "outputs": []
    },
    {
      "cell_type": "code",
      "metadata": {
        "ExecuteTime": {
          "end_time": "2021-09-28T18:59:54.119445Z",
          "start_time": "2021-09-28T18:59:54.061574Z"
        },
        "deletable": false,
        "editable": false,
        "nbgrader": {
          "cell_type": "code",
          "checksum": "d9dc74c61e1c11eeb194c1cfa810076a",
          "grade": true,
          "grade_id": "cell-0bce15215e70f543",
          "locked": true,
          "points": 6,
          "schema_version": 3,
          "solution": false,
          "task": false
        },
        "colab": {
          "base_uri": "https://localhost:8080/"
        },
        "id": "NXfR8y0crnSv",
        "outputId": "19743f87-4d65-4a61-8f74-e04f2a141f70"
      },
      "source": [
        "### Tests for your code, Do not change!\n",
        "### There can be also additional hidden tests.\n",
        "### -----------------------------------\n",
        "from scipy.linalg import norm\n",
        "import numpy as np\n",
        "import sklearn\n",
        "\n",
        "from sklearn.metrics import mean_squared_error\n",
        "\n",
        "# Make a function for calculating rms using norm\n",
        "trueRMS = lambda x: sqrt(mean_squared_error(x,x*0))\n",
        "\n",
        "x1=np.array([2,2,2,2,2])\n",
        "assert(myRMS(x1)==2)\n",
        "\n",
        "x2=np.array([3,4,5.2,8,-2,0,1.2])\n",
        "assert(myRMS(x2)==trueRMS(x2))\n",
        "\n",
        "\n",
        "# Time it\n",
        "x4=np.random.normal(5,2,size=1000000)\n",
        "%time myRMS(x4)\n"
      ],
      "execution_count": 2,
      "outputs": [
        {
          "output_type": "stream",
          "name": "stdout",
          "text": [
            "CPU times: user 3.45 ms, sys: 847 µs, total: 4.3 ms\n",
            "Wall time: 4.32 ms\n"
          ]
        },
        {
          "output_type": "execute_result",
          "data": {
            "text/plain": [
              "5.383253139011168"
            ]
          },
          "metadata": {},
          "execution_count": 2
        }
      ]
    },
    {
      "cell_type": "markdown",
      "metadata": {
        "id": "5x675ozKrnSw"
      },
      "source": [
        "## Task 2\n",
        "\n",
        "Create a polynomial signal, $y$, and add some normal noise $\\mathcal{N}(\\mu, \\sigma)$ into it, where, $\\mu$, is the mean value of the noise and, $\\sigma$, is the standard deviation. Calculate the values of the signal in 100 points between $x \\in [0, 3]$. Create the signal according to the following formula:\n",
        "\n",
        "$$y=0.1 x^2 + 1.5 x + \\mathcal{N}(0,0.5) $$\n",
        "\n",
        "Then make a scatter plot of the $y$ against $x$. You can use the standard plot function, but do not use a line plot but plot only dots for all values using syntax `plt.plot(x,y,'*')`. Remember to import `plt` module from `matplotlib.pyplot as plt`.\n",
        "\n",
        "See how normal noise was created in the test cell (In [15]) of previous Task, using `np.random.normal()`. Use `np.linspace()` function to create a linear x-axis as was also shown in lecture notes.\n",
        "\n",
        "See examples from [MatplotLib tutorials](https://matplotlib.org/3.1.1/tutorials/index.html)."
      ]
    },
    {
      "cell_type": "code",
      "metadata": {
        "ExecuteTime": {
          "end_time": "2021-09-28T19:08:53.491317Z",
          "start_time": "2021-09-28T19:08:53.488462Z"
        },
        "deletable": false,
        "nbgrader": {
          "cell_type": "code",
          "checksum": "5c381f6cf3a7a27a1aecdbd8a7e92dbf",
          "grade": false,
          "grade_id": "cell-8b494ff0f9ebfec9",
          "locked": false,
          "schema_version": 3,
          "solution": true,
          "task": false
        },
        "id": "-akThnMBrnSx"
      },
      "source": [
        "# YOUR CODE HERE\n",
        "noise=np.random.normal(0,0.5,size=100)\n",
        "x = np.linspace(0,3,num=100,endpoint=True, retstep=False, dtype=None, axis=0)\n",
        "y = 0.1*np.square(x) + 1.5*x + noise"
      ],
      "execution_count": 3,
      "outputs": []
    },
    {
      "cell_type": "code",
      "metadata": {
        "ExecuteTime": {
          "end_time": "2021-09-28T19:09:03.206214Z",
          "start_time": "2021-09-28T19:09:03.085230Z"
        },
        "deletable": false,
        "editable": false,
        "nbgrader": {
          "cell_type": "code",
          "checksum": "c913da6f43e98d3af600c7f69a5a229c",
          "grade": true,
          "grade_id": "cell-12465ad6bb660424",
          "locked": true,
          "points": 2,
          "schema_version": 3,
          "solution": false,
          "task": false
        },
        "colab": {
          "base_uri": "https://localhost:8080/",
          "height": 284
        },
        "id": "plZemgn5rnSz",
        "outputId": "5129100c-15da-4d54-b98c-5bd380605a6c"
      },
      "source": [
        "# Look visually, if the result looks like it should\n",
        "\n",
        "import matplotlib.pyplot as plt\n",
        "plt.scatter(x,y)"
      ],
      "execution_count": 4,
      "outputs": [
        {
          "output_type": "execute_result",
          "data": {
            "text/plain": [
              "<matplotlib.collections.PathCollection at 0x7f2e0de96b50>"
            ]
          },
          "metadata": {},
          "execution_count": 4
        },
        {
          "output_type": "display_data",
          "data": {
            "image/png": "[encoded data removed]",
            "text/plain": [
              "<Figure size 432x288 with 1 Axes>"
            ]
          },
          "metadata": {
            "needs_background": "light"
          }
        }
      ]
    },
    {
      "cell_type": "code",
      "metadata": {
        "ExecuteTime": {
          "end_time": "2021-09-28T19:49:58.902750Z",
          "start_time": "2021-09-28T19:49:58.898902Z"
        },
        "deletable": false,
        "editable": false,
        "nbgrader": {
          "cell_type": "code",
          "checksum": "387eddeee200c388c28638da17613f8e",
          "grade": true,
          "grade_id": "cell-5d603014f7ce3886",
          "locked": true,
          "points": 4,
          "schema_version": 3,
          "solution": false,
          "task": false
        },
        "id": "UCqx_HHHrnS1"
      },
      "source": [
        "### Some tests for your code.\n",
        "### -----------------------------------\n",
        "assert(len(x)==100)\n",
        "assert((y.mean()>2.4) and (y.mean()<2.7))\n",
        "assert((y.min()>-1.5) and (y.max()<7))\n",
        "assert((y.std()>1.2) and (y.std()<2))"
      ],
      "execution_count": 5,
      "outputs": []
    },
    {
      "cell_type": "markdown",
      "metadata": {
        "id": "Xgka96X0rnS4"
      },
      "source": [
        "## Task 3\n",
        "\n",
        "Make a function, which optimize a one dimensional linear model, by finding and optimal value for coefficient $k$ so that the error $E$ given by the following formula is minimized:\n",
        "\n",
        "$$ E = \\sum_{i=1}^N (y - k\\cdot x)^2 $$\n",
        "\n",
        "You may use \n",
        " 1. brute force solution and try suitable values for $k$ in a loop.\n",
        " 1. or use the [LinearRegression](https://scikit-learn.org/stable/modules/generated/sklearn.linear_model.LinearRegression.html#sklearn.linear_model.LinearRegression) model from sklearn package\n",
        "\n",
        "Either way, define a function which takes $x$ and $y$ as input and returns a tuple containing both the coefficient $k$ and the RMS error $E$ of the model. \n",
        "   \n",
        "- Does the model fit into the data? \n",
        "- The model is linear, so it tries to fit a line into the data, what is the slope of the fitted line?\n",
        "\n",
        "**TIP**\n",
        "If you use LinearRegression, remember to traspose $x$ into column vector for example in the following way: ```x=xoriginal.reshape(-1,1)```\n",
        "\n",
        "\n",
        "**TIP 2**\n",
        "You may use the following template for your function\n",
        "```\n",
        "def linreg(x,y):\n",
        "    k=0.5\n",
        "    E=0.0\n",
        "    return (k,E) \n",
        "```\n"
      ]
    },
    {
      "cell_type": "code",
      "metadata": {
        "ExecuteTime": {
          "end_time": "2021-09-28T19:45:47.407670Z",
          "start_time": "2021-09-28T19:45:47.402870Z"
        },
        "deletable": false,
        "nbgrader": {
          "cell_type": "code",
          "checksum": "267254b40258f972b38504b1acda4c6f",
          "grade": false,
          "grade_id": "cell-240bc2d5471596e1",
          "locked": false,
          "schema_version": 3,
          "solution": true,
          "task": false
        },
        "id": "MObCQ0GhrnS6"
      },
      "source": [
        "from sklearn.linear_model import LinearRegression\n",
        "\n",
        "# YOUR CODE HERE\n",
        "def linreg(x,y):\n",
        "  #k=0.5\n",
        "  #E=0.0  \n",
        "  x_T=x.reshape(-1,1)\n",
        "  model = LinearRegression().fit(x_T, y)\n",
        "  #print('score',model.score(x_T,y))\n",
        "  #print('slope', model.coef_)\n",
        "  #print('intercept',model.intercept_)\n",
        "  k = model.coef_\n",
        "  E = np.sum(np.square(y - k*x))\n",
        "  #E = np.sum(np.square(np.subtract(y,np.multiply(k,x))))\n",
        "  #print(\"E = %2.2f\" % (E))\n",
        "  fig, ax = plt.subplots()\n",
        "  ax.plot(x, k*x, '-')\n",
        "  ax.plot(x, y, 'o', color='tab:brown')\n",
        "  return (k,E) "
      ],
      "execution_count": 93,
      "outputs": []
    },
    {
      "cell_type": "code",
      "metadata": {
        "ExecuteTime": {
          "end_time": "2021-09-28T19:45:56.296893Z",
          "start_time": "2021-09-28T19:45:56.251632Z"
        },
        "deletable": false,
        "editable": false,
        "nbgrader": {
          "cell_type": "code",
          "checksum": "f2f2b3d059edc53b5d6ede788c071afe",
          "grade": true,
          "grade_id": "cell-b54ffd8eab916c4a",
          "locked": true,
          "points": 6,
          "schema_version": 3,
          "solution": false,
          "task": false
        },
        "colab": {
          "base_uri": "https://localhost:8080/",
          "height": 284
        },
        "id": "9W_6TOTzrnS6",
        "outputId": "11529b9f-a5e3-4efe-e334-6d5ab606aab8"
      },
      "source": [
        "k,E=linreg(x,y)\n",
        "assert(abs(k-1.69)<0.2)\n",
        "print (\"Seems working\")"
      ],
      "execution_count": 94,
      "outputs": [
        {
          "output_type": "stream",
          "name": "stdout",
          "text": [
            "Seems working\n"
          ]
        },
        {
          "output_type": "display_data",
          "data": {
            "image/png": "[encoded data removed]",
            "text/plain": [
              "<Figure size 432x288 with 1 Axes>"
            ]
          },
          "metadata": {
            "needs_background": "light"
          }
        }
      ]
    },
    {
      "cell_type": "markdown",
      "metadata": {
        "ExecuteTime": {
          "end_time": "2021-09-28T19:38:16.891942Z",
          "start_time": "2021-09-28T19:38:16.889805Z"
        },
        "id": "24Ai8s3UrnS8"
      },
      "source": [
        "## Analyze the results\n",
        "1. Does the model fit into the data well? \n",
        "1. The model is linear, so it tries to fit a line into the data, what is the slope of the fitted line?\n",
        "1. Mention two reasons why the model does not fit better?"
      ]
    },
    {
      "cell_type": "markdown",
      "metadata": {
        "deletable": false,
        "nbgrader": {
          "cell_type": "markdown",
          "checksum": "0bcf2801ac3a2c67fc9e2b44c412288d",
          "grade": true,
          "grade_id": "cell-946f021701add528",
          "locked": false,
          "points": 6,
          "schema_version": 3,
          "solution": true,
          "task": false
        },
        "id": "09vUDdVmrnS9"
      },
      "source": [
        "YOUR ANSWER HERE\n",
        "1. According to model training score it fits about 90%.\n",
        "2. Slope is 1.84\n",
        "3. Data noise (outliers) and low sample count."
      ]
    },
    {
      "cell_type": "markdown",
      "metadata": {
        "id": "oHt5hhPArnS-"
      },
      "source": [
        "The end :)"
      ]
    }
  ]
}